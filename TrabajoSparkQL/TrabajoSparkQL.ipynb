{
 "cells": [
  {
   "cell_type": "markdown",
   "metadata": {},
   "source": [
    "# Análisis e Implementación en SparkQL\n",
    "\n",
    "* Entrega hasta el 24 de mayo en https://forms.gle/aRiWtjayausRFCTd8\n",
    "\n",
    "* Los dos conjuntos de datos entregados, CSV separados por coma, Evaluación del Pitch (2021.04.13 ISoftware).csv y Asistencia del Pitch (2021.04.13 ISoftware).csv proceden de dos encuestas realizadas con Google Forms.\n",
    "\n",
    "* Los archivos proceden de las evaluaciones de los pitch (exposiciones cortas de negocio) que realizan los estudiantes de la asignatura de Ingeniería de Software. Los estudiantes están organizados en equipos. Cada equipo realiza una presentación de máximo 15 minutos, una vez inicia la presentación todos los estudiantes deben registrar su asistencia lo cual queda registrado en 'Asistencia del Pitch (2021.04.13 ISoftware).csv' incluidos los miembros del equipo.\n",
    "\n",
    "* El archivo `Asistencia del Pitch (2021.04.13 ISoftware).csv` contiene las columnas: `\"Marca temporal\"` es tiempo dado en fecha y hora, `\"Nombre de usuario\"` es el correo electrónico del estudiante y es texto,`\"Equipo al que perteneces:\"` equipo de trabajo al que pertenece el estudiante también es texto y `\"Equipo que va a exponer:\"` equipo que el estudiante va a tender a su presentación.\n",
    "\n",
    "* El archivo `Evaluación del Pitch (2021.04.13 ISoftware).csv` contiene las columnas `\"Marca temporal\"` es tiempo dado en fecha y hora, `\"Nombre de usuario\"` es el correo electrónico del estudiante y es texto, `\"Equipo que vas a evaluar:\"` equipo que ha expuesto y que va a ser evaluado por cada estudiante que no sea integrante; a continuación, se tienen las siguientes columnas que corresponden a la evaluación de los respectivos ítems:\n",
    "\n",
    "    1. \"Introducción: El equipo responde adecuadamente ¿Quiénes son y por qué están aquí?\",\n",
    "    2. \"Equipo: El equipo responde adecuadamente ¿Quiénes están detrás de la idea y cuál es su función?\",\n",
    "    3. \"Problema: El equipo responde adecuadamente ¿Qué problema resolverá?, ¿es realmente un problema?\",\n",
    "    4. \"Ventajas: El equipo responde adecuadamente ¿Por qué su solución es especial?, ¿qué la hace distinta de otras?\",\n",
    "    5. \"Solución: El equipo responde adecuadamente ¿Cómo piensa resolver el problema?\",\n",
    "    6. \"Producto: El equipo responde adecuadamente ¿Cómo funciona el producto o servicio? Muestra algunos ejemplos.\",\n",
    "    7. \"Tracción: El equipo responde adecuadamente si cuenta con clientes que demuestran potencial.\",\n",
    "    8. \"Mercado: El equipo responde conoce, o por lo menos intentar predecir, el tamaño del mercado que impactará.\",\n",
    "    9. \"Competencia: El equipo responde adecuadamente ¿Cuáles son las soluciones alternativas al problema que plantea?\",\n",
    "    10. \"Modelo de negocio: El equipo responde adecuadamente ¿Cómo hará dinero? \",\n",
    "    11. \"Inversión: El equipo responde adecuadamente ¿Cuál es su presupuesto y cuánto espera ganar?\",\n",
    "    12. \"Contacto: El equipo deja los datos al cliente y muestra cómo pueden contactarle.\",\n",
    "    13. \"Exposición: ¿Qué tan coordinados estaban los expositores?\",\n",
    "    14. \"Exposición: ¿Los expositores se expresaron con claridad y se hicieron entender?\",\n",
    "    15. \"Exposición: Las diapositivas son claras y coherentes y apoyaron adecuadamente la exposición.\",\n",
    "    * \"Suponiendo que eres inversionista, ¿Estarías dispuesto a invertir dinero en este equipo? (esta pregunta no se pondera en la nota)\",\n",
    "    * \"Observaciones para el equipo, estas observaciones las debe considerar el equipo para mejorar la siguiente presentación.\"\n",
    "\n",
    "\n",
    "* Cada ítem se evalúa con la siguiente escala: 0. Ausente; 1. Deficiente; 2. Regular; 3. Aceptable; 4. Bueno; 5. Excelente\n",
    "\n",
    "* Carge los datos, cada archivo en una tabla SparkSQL y responda cada una de las consultas dadas en cada celda. Tenga en cuenta que algunas consultas pueden tener como resultado el vacío."
   ]
  },
  {
   "cell_type": "markdown",
   "metadata": {},
   "source": [
    "# Integrantes del equipo\n",
    "* **1.**  Juan David Rivera Builes   - 1128397071\n",
    "* **2.**  Daniel Cardona Velasquez   - 1053851588\n",
    "* **3.**  Carolina Loaiza Salazar    - 1036656435\n",
    "* **4.**  Santiago Vasquez Rodriguez - 1035428867\n"
   ]
  },
  {
   "cell_type": "code",
   "execution_count": 1,
   "metadata": {},
   "outputs": [],
   "source": [
    "# Agrege acá el código para importar las librerias\n",
    "\n",
    "# La libreria para \"encontrar el sevicio\" de Spark\n",
    "import findspark\n",
    "findspark.init()\n",
    "\n",
    "# Librerias para \"gestionar el servicio\" de Spark\n",
    "from pyspark import SparkConf, SparkContext\n",
    "from pyspark.sql import SQLContext, SparkSession\n",
    "\n",
    "# Creamos una aplicación Spark en el Servicio\n",
    "# Tenga cuidado con las tildes o caracteres especiales en el nombre de la app\n",
    "AppSpark = SparkConf().setAppName(\"Taller 02 SparkQL\")\n",
    "\n",
    "# definimos un espacio o contexto para la App\n",
    "ContextoSpark=SparkContext(conf=AppSpark)\n",
    "\n",
    "# inicio una sesión en el espacio de la App\n",
    "SesionSpark = SparkSession(ContextoSpark)\n",
    "\n",
    "# inicio del espacio o contexto SQL\n",
    "ContextoSql = SQLContext(sparkContext=ContextoSpark, sparkSession=SesionSpark)"
   ]
  },
  {
   "cell_type": "code",
   "execution_count": 4,
   "metadata": {},
   "outputs": [
    {
     "name": "stdout",
     "output_type": "stream",
     "text": [
      "'Asistencia del Pitch (2021.04.13 ISoftware).csv'\t        asistencia.csv\n",
      "'Datos para el Trabajo.zip'\t\t\t\t        evaluacion.csv\n",
      "'Evaluaci'$'\\303\\263''n del Pitch (2021.04.13 ISoftware).csv'\n"
     ]
    }
   ],
   "source": [
    "# 1. Cargue los datos en la carpeta datalake y luego del /datalake al HDFS (Hadoop File System)\n",
    "# Recuerda usar ! para ejecutar el comando en el shell. \n",
    "# Tu código a continuación...\n",
    "!ls datos\n"
   ]
  },
  {
   "cell_type": "code",
   "execution_count": 5,
   "metadata": {},
   "outputs": [],
   "source": [
    "!hadoop fs -put datos/asistencia.csv"
   ]
  },
  {
   "cell_type": "code",
   "execution_count": 6,
   "metadata": {},
   "outputs": [],
   "source": [
    "!hadoop fs -put datos/evaluacion.csv"
   ]
  },
  {
   "cell_type": "code",
   "execution_count": 7,
   "metadata": {},
   "outputs": [
    {
     "name": "stdout",
     "output_type": "stream",
     "text": [
      "Found 2 items\n",
      "-rw-r--r--   1 root supergroup      93121 2021-05-23 15:11 asistencia.csv\n",
      "-rw-r--r--   1 root supergroup     111944 2021-05-23 15:11 evaluacion.csv\n"
     ]
    }
   ],
   "source": [
    "!hadoop fs -ls"
   ]
  },
  {
   "cell_type": "code",
   "execution_count": null,
   "metadata": {},
   "outputs": [],
   "source": [
    "# 2. Cree dos tablas SparkSQL y almacene el csv en su correspondiente tabla.\n",
    "# Observación: tenga especial cuidado con los encabezados de los archivos CSV.\n",
    "# Usted puede considerar cambiar los encabezados de los CSV originales\n",
    "# Tu código a continuación...\n",
    "\n"
   ]
  },
  {
   "cell_type": "code",
   "execution_count": 60,
   "metadata": {},
   "outputs": [
    {
     "name": "stdout",
     "output_type": "stream",
     "text": [
      "\"Marca temporal\",\"Nombre de usuario\",\"Equipo al que perteneces:\",\"Equipo que va a exponer:\"\n",
      "\"2021/04/08 8:07:55 a.��m. GMT-5\",\"jppinedal@unal.edu.co\",\"Pertenezco a: Servicios a domicilio\",\"Expone: Servicios a domicilio\"\n",
      "\"2021/04/08 8:09:39 a.��m. GMT-5\",\"dgarciabl@unal.edu.co\",\"Pertenezco a: Lo tengo y te lo presto.\",\"Expone: Lo tengo y te lo presto.\"\n",
      "\"2021/04/08 8:09:53 a.��m. GMT-5\",\"auarbelaeza@unal.edu.co\",\"Pertenezco a: Gesti��n de Residencias y Habitaciones Universitarias.\",\"Expone: Te lo cambio.\"\n",
      "\"2021/04/08 8:09:55 a.��m. GMT-5\",\"jmunozhe@unal.edu.co\",\"Pertenezco a: Lo tengo y te lo presto.\",\"Expone: Te lo cambio.\"\n",
      "\"2021/04/08 8:10:03 a.��m. GMT-5\",\"dgerenal@unal.edu.co\",\"Pertenezco a: Te lo cambio.\",\"Expone: Te lo cambio.\"\n",
      "\"2021/04/08 8:10:18 a.��m. GMT-5\",\"nvalenciat@unal.edu.co\",\"Pertenezco a: Te lo cambio.\",\"Expone: Te lo cambio.\"\n",
      "\"2021/04/08 8:10:18 a.��m. GMT-5\",\"fmiranda@unal.edu.co\",\"Pertenezco a: Mi Sanandresito\",\"Expone: Te lo cambio.\"\n",
      "\"2021/04/08 8:10:26 a.��m. GMT-5\",\"jucardonaa@unal.edu.co\",\"Pertenezco a: Gesti��n de programas curriculares\",\"Expone: Te lo cambio.\"\n",
      "\"2021/04/08 8:10:28 a.��m. GMT-5\",\"seagudeloo@unal.edu.co\",\"Pertenezco a: Gesti��n de Residencias y Habitaciones Universitarias.\",\"Expone: Te lo cambio.\"\n",
      "cat: Unable to write to output stream.\n"
     ]
    }
   ],
   "source": [
    "!hadoop fs -cat asistencia.csv | head"
   ]
  },
  {
   "cell_type": "code",
   "execution_count": 9,
   "metadata": {},
   "outputs": [
    {
     "name": "stdout",
     "output_type": "stream",
     "text": [
      "\"Marca temporal\",\"Nombre de usuario\",\"Equipo que vas a evaluar:\",\"Introducci��n: El equipo responde adecuadamente ��Qui��nes son y por qu�� est��n aqu��?\",\"Equipo: El equipo responde adecuadamente ��Qui��nes est��n detr��s de la idea y cu��l es su funci��n?\",\"Problema: El equipo responde adecuadamente ��Qu�� problema resolver��?, ��es realmente un problema?\",\"Ventajas: El equipo responde adecuadamente ��Por qu�� su soluci��n es especial?, ��qu�� la hace distinta de otras?\",\"Soluci��n: El equipo responde adecuadamente ��C��mo piensa resolver el problema?\",\"Producto: El equipo responde adecuadamente ��C��mo funciona el producto o servicio? Muestra algunos ejemplos.\",\"Tracci��n: El equipo responde adecuadamente si cuenta con clientes que demuestran potencial.\",\"Mercado: El equipo responde conoce, o por lo menos intentar predecir, el tama��o del mercado que impactar��.\",\"Competencia: El equipo responde adecuadamente ��Cu��les son las soluciones alternativas al problema que plantea?\",\"Modelo de negocio: El equipo responde adecuadamente ��C��mo har�� dinero? \",\"Inversi��n: El equipo responde adecuadamente ��Cu��l es su presupuesto y cu��nto espera ganar?\",\"Contacto: El equipo deja los datos al cliente y muestra c��mo pueden contactarle.\",\"Exposici��n: ��Qu�� tan coordinados estaban los expositores?\",\"Exposici��n: ��Los expositores se expresaron con claridad y se hicieron entender?\",\"Exposici��n: Las diapositivas son claras y coherentes y apoyaron adecuadamente la exposici��n.\",\"Suponiendo que eres inversionista, ��Estar��as dispuesto a invertir dinero en este equipo? (esta pregunta no se pondera en la nota)\",\"Observaciones para el equipo, estas observaciones las debe considerar el equipo para mejorar la siguiente presentaci��n.\"\n",
      "\"2021/04/08 8:26:30 a.��m. GMT-5\",\"jmunozbo@unal.edu.co\",\"Te lo cambio.\",\"5\",\"5\",\"5\",\"5\",\"5\",\"5\",\"5\",\"5\",\"5\",\"5\",\"3\",\"5\",\"5\",\"5\",\"5\",\"Tal vez\",\"\"\n",
      "\"2021/04/08 8:26:49 a.��m. GMT-5\",\"daestradam@unal.edu.co\",\"Te lo cambio.\",\"5\",\"5\",\"5\",\"4\",\"5\",\"5\",\"4\",\"5\",\"4\",\"4\",\"4\",\"4\",\"4\",\"5\",\"5\",\"Tal vez\",\"\"\n",
      "\"2021/04/08 8:27:29 a.��m. GMT-5\",\"seagudeloo@unal.edu.co\",\"Te lo cambio.\",\"4\",\"4\",\"4\",\"4\",\"4\",\"4\",\"4\",\"4\",\"3\",\"4\",\"3\",\"5\",\"5\",\"4\",\"5\",\"S��\",\"\"\n",
      "\"2021/04/08 8:27:34 a.��m. GMT-5\",\"jubuitrago@unal.edu.co\",\"Te lo cambio.\",\"5\",\"4\",\"5\",\"4\",\"5\",\"5\",\"4\",\"4\",\"5\",\"4\",\"4\",\"4\",\"5\",\"5\",\"5\",\"No\",\"Realmente siento que lo hicieron muy bien\"\n",
      "\"2021/04/08 8:27:45 a.��m. GMT-5\",\"acastrillonv@unal.edu.co\",\"Te lo cambio.\",\"3\",\"3\",\"2\",\"2\",\"3\",\"4\",\"3\",\"3\",\"3\",\"4\",\"3\",\"4\",\"4\",\"3\",\"3\",\"No\",\"\"\n",
      "\"2021/04/08 8:27:51 a.��m. GMT-5\",\"dgiraldolo@unal.edu.co\",\"Te lo cambio.\",\"3\",\"2\",\"4\",\"3\",\"4\",\"4\",\"3\",\"3\",\"4\",\"4\",\"3\",\"3\",\"2\",\"3\",\"3\",\"Tal vez\",\"La presentaci��n se hizo de manera pr��cticamente individual por parte de un expositor\"\n",
      "\"2021/04/08 8:27:57 a.��m. GMT-5\",\"jmonsalveb@unal.edu.co\",\"Te lo cambio.\",\"4\",\"5\",\"4\",\"4\",\"5\",\"5\",\"4\",\"5\",\"5\",\"5\",\"4\",\"5\",\"5\",\"5\",\"4\",\"S��\",\"Me pareci�� buena exposici��n, no tengo aportes para dar a este equipo.\"\n",
      "\"2021/04/08 8:27:58 a.��m. GMT-5\",\"dosoriom@unal.edu.co\",\"Te lo cambio.\",\"5\",\"5\",\"5\",\"4\",\"5\",\"5\",\"5\",\"5\",\"5\",\"5\",\"5\",\"5\",\"5\",\"5\",\"4\",\"S��\",\"Muy chevere como muestran las interfaces gr��ficas de como funciona la app\"\n",
      "\"2021/04/08 8:28:15 a.��m. GMT-5\",\"jlopezpe@unal.edu.co\",\"Te lo cambio.\",\"4\",\"2\",\"4\",\"4\",\"4\",\"5\",\"4\",\"5\",\"3\",\"4\",\"3\",\"5\",\"5\",\"3\",\"4\",\"Tal vez\",\"Creo que se olvidaron de algunos detalles generales que no tomaron en cuenta , por ejemplo se me acurre el replantear el hecho de que se multe por cancelar un pr��stamo.\"\n",
      "cat: Unable to write to output stream.\n"
     ]
    }
   ],
   "source": [
    "!hadoop fs -cat evaluacion.csv | head"
   ]
  },
  {
   "cell_type": "code",
   "execution_count": 67,
   "metadata": {},
   "outputs": [
    {
     "data": {
      "text/plain": [
       "DataFrame[]"
      ]
     },
     "execution_count": 67,
     "metadata": {},
     "output_type": "execute_result"
    }
   ],
   "source": [
    "ContextoSql.sql(\"DROP TABLE IF EXISTS asistencia\")"
   ]
  },
  {
   "cell_type": "code",
   "execution_count": 69,
   "metadata": {},
   "outputs": [],
   "source": [
    "ContextoSql.sql(\"\"\"\n",
    "CREATE TABLE IF NOT EXISTS \n",
    "asistencia (\n",
    "    Marca_temporal             STRING,\n",
    "    Nombre_de_usuario          STRING,\n",
    "    Equipo_al_que_perteneces   STRING,\n",
    "    Equipo_que_va_a_exponer    STRING\n",
    "        ) \n",
    "USING CSV OPTIONS ( \n",
    "    header='true', \n",
    "    nullvalue='NA', \n",
    "    timestampFormat=\\\"yyyy-MM-dd'T'HH:mm:ss\\\", \n",
    "    path='asistencia.csv')\n",
    "    \"\"\"); "
   ]
  },
  {
   "cell_type": "code",
   "execution_count": 117,
   "metadata": {},
   "outputs": [
    {
     "name": "stdout",
     "output_type": "stream",
     "text": [
      "+--------+----------+-----------+\n",
      "|database| tableName|isTemporary|\n",
      "+--------+----------+-----------+\n",
      "| default|asistencia|      false|\n",
      "| default|evaluacion|      false|\n",
      "+--------+----------+-----------+\n",
      "\n"
     ]
    }
   ],
   "source": [
    "ContextoSql.sql(\"SHOW TABLES\").show()"
   ]
  },
  {
   "cell_type": "code",
   "execution_count": 70,
   "metadata": {},
   "outputs": [
    {
     "name": "stdout",
     "output_type": "stream",
     "text": [
      "+--------------------+--------------------+------------------------+-----------------------+\n",
      "|      Marca_temporal|   Nombre_de_usuario|Equipo_al_que_perteneces|Equipo_que_va_a_exponer|\n",
      "+--------------------+--------------------+------------------------+-----------------------+\n",
      "|2021/04/08 8:07:5...|jppinedal@unal.ed...|    Pertenezco a: Ser...|   Expone: Servicios...|\n",
      "|2021/04/08 8:09:3...|dgarciabl@unal.ed...|    Pertenezco a: Lo ...|   Expone: Lo tengo ...|\n",
      "|2021/04/08 8:09:5...|auarbelaeza@unal....|    Pertenezco a: Ges...|   Expone: Te lo cam...|\n",
      "|2021/04/08 8:09:5...|jmunozhe@unal.edu.co|    Pertenezco a: Lo ...|   Expone: Te lo cam...|\n",
      "|2021/04/08 8:10:0...|dgerenal@unal.edu.co|    Pertenezco a: Te ...|   Expone: Te lo cam...|\n",
      "|2021/04/08 8:10:1...|nvalenciat@unal.e...|    Pertenezco a: Te ...|   Expone: Te lo cam...|\n",
      "|2021/04/08 8:10:1...|fmiranda@unal.edu.co|    Pertenezco a: Mi ...|   Expone: Te lo cam...|\n",
      "|2021/04/08 8:10:2...|jucardonaa@unal.e...|    Pertenezco a: Ges...|   Expone: Te lo cam...|\n",
      "|2021/04/08 8:10:2...|seagudeloo@unal.e...|    Pertenezco a: Ges...|   Expone: Te lo cam...|\n",
      "|2021/04/08 8:10:2...|jmonsalveb@unal.e...|    Pertenezco a: Ges...|   Expone: Te lo cam...|\n",
      "+--------------------+--------------------+------------------------+-----------------------+\n",
      "only showing top 10 rows\n",
      "\n"
     ]
    }
   ],
   "source": [
    "consulta = ContextoSql.sql(\"Select * from asistencia\")\n",
    "consulta.show(10)"
   ]
  },
  {
   "cell_type": "code",
   "execution_count": 13,
   "metadata": {},
   "outputs": [],
   "source": [
    "ContextoSql.sql(\"\"\"\n",
    "CREATE TABLE IF NOT EXISTS \n",
    "evaluacion (\n",
    "          Marca_temporal            STRING,\n",
    "          Nombre_de_usuario         STRING,\n",
    "          Equipo_que_vas_a_evaluar  STRING ,\n",
    "          Introduccion              INT,\n",
    "          Equipo                    INT,\n",
    "          Problema                  INT,\n",
    "          Ventajas                  INT,\n",
    "          Solucion                  INT,\n",
    "          Producto                  INT,\n",
    "          Traccion                  INT,\n",
    "          Mercado                   INT,\n",
    "          Competencia               INT,\n",
    "          Modelo_de_negocio         INT,\n",
    "          Inversion                 INT,\n",
    "          Contacto                  INT,\n",
    "          Exposicion_1              INT,\n",
    "          Exposicion_2              INT,\n",
    "          Exposicion_3              INT,\n",
    "          invertirias_dinero        STRING,\n",
    "          observaciones             STRING\n",
    "        ) \n",
    "USING CSV OPTIONS ( \n",
    "    header='true', \n",
    "    nullvalue='NA', \n",
    "    timestampFormat=\\\"yyyy-MM-dd'T'HH:mm:ss\\\", \n",
    "    path='evaluacion.csv')\n",
    "    \"\"\"); "
   ]
  },
  {
   "cell_type": "code",
   "execution_count": 39,
   "metadata": {},
   "outputs": [
    {
     "name": "stdout",
     "output_type": "stream",
     "text": [
      "+--------+----------+-----------+\n",
      "|database| tableName|isTemporary|\n",
      "+--------+----------+-----------+\n",
      "| default|asistencia|      false|\n",
      "| default|evaluacion|      false|\n",
      "+--------+----------+-----------+\n",
      "\n"
     ]
    }
   ],
   "source": [
    "ContextoSql.sql(\"SHOW TABLES\").show()"
   ]
  },
  {
   "cell_type": "code",
   "execution_count": 19,
   "metadata": {},
   "outputs": [
    {
     "name": "stdout",
     "output_type": "stream",
     "text": [
      "+--------------------+--------------------+------------------------+------------+------+--------+\n",
      "|      marca_temporal|   nombre_de_usuario|Equipo_que_vas_a_evaluar|Introduccion|Equipo|Problema|\n",
      "+--------------------+--------------------+------------------------+------------+------+--------+\n",
      "|2021/04/08 8:26:3...|jmunozbo@unal.edu.co|           Te lo cambio.|           5|     5|       5|\n",
      "|2021/04/08 8:26:4...|daestradam@unal.e...|           Te lo cambio.|           5|     5|       5|\n",
      "|2021/04/08 8:27:2...|seagudeloo@unal.e...|           Te lo cambio.|           4|     4|       4|\n",
      "|2021/04/08 8:27:3...|jubuitrago@unal.e...|           Te lo cambio.|           5|     4|       5|\n",
      "|2021/04/08 8:27:4...|acastrillonv@unal...|           Te lo cambio.|           3|     3|       2|\n",
      "|2021/04/08 8:27:5...|dgiraldolo@unal.e...|           Te lo cambio.|           3|     2|       4|\n",
      "|2021/04/08 8:27:5...|jmonsalveb@unal.e...|           Te lo cambio.|           4|     5|       4|\n",
      "|2021/04/08 8:27:5...|dosoriom@unal.edu.co|           Te lo cambio.|           5|     5|       5|\n",
      "|2021/04/08 8:28:1...|jlopezpe@unal.edu.co|           Te lo cambio.|           4|     2|       4|\n",
      "|2021/04/08 8:28:1...|angutierrezb@unal...|    Lo tengo y te lo ...|           4|     4|       5|\n",
      "+--------------------+--------------------+------------------------+------------+------+--------+\n",
      "only showing top 10 rows\n",
      "\n"
     ]
    }
   ],
   "source": [
    "consulta = ContextoSql.sql(\"\"\"\n",
    "                           SELECT \n",
    "                           marca_temporal,\n",
    "                           nombre_de_usuario ,\n",
    "                           Equipo_que_vas_a_evaluar,\n",
    "                           Introduccion,\n",
    "                           Equipo,\n",
    "                           Problema\n",
    "                           FROM evaluacion\n",
    "                           \"\"\")\n",
    "consulta.show(10)"
   ]
  },
  {
   "cell_type": "code",
   "execution_count": 36,
   "metadata": {},
   "outputs": [
    {
     "name": "stdout",
     "output_type": "stream",
     "text": [
      "+--------------------+---------+-------+\n",
      "|            col_name|data_type|comment|\n",
      "+--------------------+---------+-------+\n",
      "|      Marca_temporal|   string|   null|\n",
      "|   Nombre_de_usuario|   string|   null|\n",
      "|Equipo_que_vas_a_...|   string|   null|\n",
      "|        Introduccion|      int|   null|\n",
      "|              Equipo|      int|   null|\n",
      "|            Problema|      int|   null|\n",
      "|            Ventajas|      int|   null|\n",
      "|            Solucion|      int|   null|\n",
      "|            Producto|      int|   null|\n",
      "|            Traccion|      int|   null|\n",
      "|             Mercado|      int|   null|\n",
      "|         Competencia|      int|   null|\n",
      "|   Modelo_de_negocio|      int|   null|\n",
      "|           Inversion|      int|   null|\n",
      "|            Contacto|      int|   null|\n",
      "|        Exposicion_1|      int|   null|\n",
      "|        Exposicion_2|      int|   null|\n",
      "|        Exposicion_3|      int|   null|\n",
      "|  invertirias_dinero|   string|   null|\n",
      "|       observaciones|   string|   null|\n",
      "+--------------------+---------+-------+\n",
      "\n"
     ]
    }
   ],
   "source": [
    "consulta = ContextoSql.sql(\"describe evaluacion\")\n",
    "consulta.show()"
   ]
  },
  {
   "cell_type": "code",
   "execution_count": 45,
   "metadata": {},
   "outputs": [
    {
     "name": "stdout",
     "output_type": "stream",
     "text": [
      "+--------------------+-------------------------+\n",
      "|   nombre_de_usuario|cantidad_encuestas_hechas|\n",
      "+--------------------+-------------------------+\n",
      "| abanolc@unal.edu.co|                        7|\n",
      "|acastrillonv@unal...|                        8|\n",
      "| aflemag@unal.edu.co|                        8|\n",
      "|anapariciom@unal....|                       10|\n",
      "|angutierrezb@unal...|                        8|\n",
      "|anoriega@unal.edu.co|                        8|\n",
      "|auarbelaeza@unal....|                        8|\n",
      "| bocampo@unal.edu.co|                        8|\n",
      "|cgiraldo@unal.edu.co|                        8|\n",
      "|cjfunezg@unal.edu.co|                        8|\n",
      "|cquinchiar@unal.e...|                        6|\n",
      "| dadazam@unal.edu.co|                        9|\n",
      "|daestradam@unal.e...|                        8|\n",
      "|davgarciava@unal....|                        8|\n",
      "|dballesteroso@una...|                        8|\n",
      "|  dbrito@unal.edu.co|                        7|\n",
      "|dcadavid@unal.edu.co|                        8|\n",
      "|dcardonaal@unal.e...|                        8|\n",
      "|dchavarriar@unal....|                        8|\n",
      "|dgarciabl@unal.ed...|                        9|\n",
      "+--------------------+-------------------------+\n",
      "only showing top 20 rows\n",
      "\n"
     ]
    }
   ],
   "source": [
    "# 2. Consulte el listado total de estudiantes (correos electrónicos) del \n",
    "# curso de Ingeniería de Software, ordenados alfabéticamente\n",
    "# Tu código a continuación...\n",
    "consulta = ContextoSql.sql(\"\"\"\n",
    "                            SELECT \n",
    "                            nombre_de_usuario\n",
    "                            ,COUNT(1) as cantidad_encuestas_hechas\n",
    "                            FROM asistencia\n",
    "                            GROUP BY 1\n",
    "                            HAVING COUNT(1)>1\n",
    "                            ORDER BY 1 \n",
    "                            \"\"\"\n",
    "                          )\n",
    "consulta.show()\n"
   ]
  },
  {
   "cell_type": "code",
   "execution_count": 111,
   "metadata": {},
   "outputs": [
    {
     "name": "stdout",
     "output_type": "stream",
     "text": [
      "+--------------------+-------------------------+-------------------+-------------------+\n",
      "|   nombre_de_usuario|cantidad_encuestas_hechas| primera_asistencia|  ultima_asistencia|\n",
      "+--------------------+-------------------------+-------------------+-------------------+\n",
      "| abanolc@unal.edu.co|                        7|2021-04-08 08:12:14|2021-04-13 09:37:56|\n",
      "|acastrillonv@unal...|                        8|2021-04-08 08:13:06|2021-04-13 09:43:13|\n",
      "| aflemag@unal.edu.co|                        8|2021-04-08 08:11:58|2021-04-13 09:41:54|\n",
      "|anapariciom@unal....|                       10|2021-04-08 08:11:49|2021-04-13 09:38:51|\n",
      "|angutierrezb@unal...|                        8|2021-04-08 08:19:06|2021-04-13 09:43:54|\n",
      "|anoriega@unal.edu.co|                        8|2021-04-08 08:15:18|2021-04-13 09:40:20|\n",
      "|auarbelaeza@unal....|                        8|2021-04-08 08:09:53|2021-04-13 09:41:04|\n",
      "| bocampo@unal.edu.co|                        8|2021-04-08 08:13:30|2021-04-13 09:42:16|\n",
      "|cgiraldo@unal.edu.co|                        8|2021-04-08 08:44:23|2021-04-13 09:56:44|\n",
      "|cjfunezg@unal.edu.co|                        8|2021-04-08 08:12:15|2021-04-13 09:41:46|\n",
      "|cquinchiar@unal.e...|                        6|2021-04-08 08:33:32|2021-04-13 09:49:09|\n",
      "| dadazam@unal.edu.co|                        9|2021-04-08 08:13:18|2021-04-13 09:41:14|\n",
      "|daestradam@unal.e...|                        8|2021-04-08 08:10:39|2021-04-13 09:44:39|\n",
      "|davgarciava@unal....|                        8|2021-04-08 08:13:45|2021-04-13 09:42:39|\n",
      "|dballesteroso@una...|                        8|2021-04-08 08:14:23|2021-04-13 09:49:07|\n",
      "|  dbrito@unal.edu.co|                        7|2021-04-08 08:19:07|2021-04-13 09:41:36|\n",
      "|dcadavid@unal.edu.co|                        8|2021-04-08 08:13:07|2021-04-13 09:40:58|\n",
      "|dcardonaal@unal.e...|                        8|2021-04-08 08:12:03|2021-04-13 09:42:14|\n",
      "|dchavarriar@unal....|                        8|2021-04-08 08:13:08|2021-04-13 09:43:56|\n",
      "|dgarciabl@unal.ed...|                        9|2021-04-08 08:09:39|2021-04-13 09:41:04|\n",
      "+--------------------+-------------------------+-------------------+-------------------+\n",
      "only showing top 20 rows\n",
      "\n"
     ]
    }
   ],
   "source": [
    "# 3. Consulte la cantidad de asistencias registradas por estudiante; además, la fecha y hora de la primera asistencia\n",
    "# y la fecha y hora de la última asistencia\n",
    "# Tu código a continuación...\n",
    "\n",
    "consulta = ContextoSql.sql(\"\"\"\n",
    "                          WITH fecha_form AS (\n",
    "                            SELECT \n",
    "                             *\n",
    "                             ,TO_TIMESTAMP(MARCA_TEMPORAL,\"yyyy/MM/dd hh:mm:ss \") AS Fecha_con_formato\n",
    "                            FROM asistencia\n",
    "                            )\n",
    "                            SELECT \n",
    "                            nombre_de_usuario\n",
    "                            ,COUNT(1)                  AS cantidad_encuestas_hechas\n",
    "                            ,MIN(Fecha_con_formato)    AS primera_asistencia\n",
    "                            ,MAX(Fecha_con_formato)    AS ultima_asistencia\n",
    "                            FROM fecha_form\n",
    "                            GROUP BY 1\n",
    "                            ORDER BY 1 \n",
    "                            \"\"\"\n",
    "                          )\n",
    "consulta.show()\n"
   ]
  },
  {
   "cell_type": "code",
   "execution_count": 115,
   "metadata": {},
   "outputs": [
    {
     "name": "stdout",
     "output_type": "stream",
     "text": [
      "+--------------------+-------------------------+\n",
      "|   nombre_de_usuario|cantidad_encuestas_hechas|\n",
      "+--------------------+-------------------------+\n",
      "|jdroldano@unal.ed...|                        1|\n",
      "+--------------------+-------------------------+\n",
      "\n"
     ]
    }
   ],
   "source": [
    "# 4. Consulte el listado de estudiantes que asistieron a 2 presentaciones o menos (una).\n",
    "# Tu código a continuación...\n",
    "consulta = ContextoSql.sql(\"\"\"\n",
    "                            SELECT \n",
    "                            nombre_de_usuario\n",
    "                            ,COUNT(1) as cantidad_encuestas_hechas\n",
    "                            FROM asistencia\n",
    "                            GROUP BY 1\n",
    "                            HAVING COUNT(1)<=2\n",
    "                            ORDER BY 2 DESC\n",
    "                            \"\"\"\n",
    "                          )\n",
    "consulta.show()"
   ]
  },
  {
   "cell_type": "code",
   "execution_count": 120,
   "metadata": {},
   "outputs": [
    {
     "name": "stdout",
     "output_type": "stream",
     "text": [
      "+-----------------+\n",
      "|nombre_de_usuario|\n",
      "+-----------------+\n",
      "+-----------------+\n",
      "\n"
     ]
    }
   ],
   "source": [
    "# 5. Consulte el listado de estudiantes que no asistieron a ninguna presentación.\n",
    "# Tu código a continuación...\n",
    "consulta = ContextoSql.sql(\"\"\"\n",
    "                            SELECT \n",
    "                            DISTINCT\n",
    "                            t1.nombre_de_usuario\n",
    "                            FROM asistencia t1\n",
    "                            LEFT JOIN evaluacion t2 ON  t1.nombre_de_usuario=t2.nombre_de_usuario\n",
    "                            WHERE t2.nombre_de_usuario IS NULL\n",
    "                            \"\"\"\n",
    "                          )\n",
    "consulta.show()\n"
   ]
  },
  {
   "cell_type": "code",
   "execution_count": 132,
   "metadata": {},
   "outputs": [
    {
     "name": "stdout",
     "output_type": "stream",
     "text": [
      "+--------------------+---------------------+\n",
      "|              equipo|integrantes_en_equipo|\n",
      "+--------------------+---------------------+\n",
      "| Lo tengo y te lo...|                   11|\n",
      "| Gestión de Resid...|                   12|\n",
      "| Gestión de progr...|                    9|\n",
      "|     Mi Sanandresito|                   10|\n",
      "| Servicios a domi...|                   10|\n",
      "| Administración d...|                   13|\n",
      "|       Te lo cambio.|                   11|\n",
      "| Gestión de Menús...|                   11|\n",
      "+--------------------+---------------------+\n",
      "\n"
     ]
    }
   ],
   "source": [
    "# 6. Consulte los integrantes por cada equipo al que pertenecen.\n",
    "# Tu código a continuación...\n",
    "consulta = ContextoSql.sql(\"\"\"\n",
    "                          WITH integrantes AS (\n",
    "                            SELECT \n",
    "                            DISTINCT\n",
    "                            REPLACE(Equipo_al_que_perteneces,\"Pertenezco a:\",\"\") as equipo\n",
    "                            ,nombre_de_usuario\n",
    "                            FROM asistencia \n",
    "                            )\n",
    "                            SELECT \n",
    "                            equipo\n",
    "                            ,COUNT(1) AS integrantes_en_equipo\n",
    "                            FROM integrantes\n",
    "                            GROUP BY 1\n",
    "                            \"\"\"\n",
    "                          )\n",
    "consulta.show()\n"
   ]
  },
  {
   "cell_type": "code",
   "execution_count": null,
   "metadata": {},
   "outputs": [],
   "source": [
    "# 7. Consulte la cantidad de asistentes por presentación, sin considerar los asistentes que pertenecen \n",
    "# al equipo que realizó la presentación.\n",
    "# Tu código a continuación...\n"
   ]
  },
  {
   "cell_type": "code",
   "execution_count": null,
   "metadata": {},
   "outputs": [],
   "source": [
    "# 8. Consutar cuáles integrantes evaluaron a su propio equipo. Estas evaluaciones no serán válidas, pues un\n",
    "# integrante no puede evaluar a su propio equipo.\n",
    "# Tu código a continuación...\n"
   ]
  },
  {
   "cell_type": "code",
   "execution_count": null,
   "metadata": {},
   "outputs": [],
   "source": [
    "# 9. Consultar la nota promedio por cada ítem (1 al 15), y la nota promedio total del cada equipo. Recuerde que no\n",
    "# son válidas las evaluaciones realizadas por los miembros del mismo equipo.\n",
    "# Tu código a continuación...\n"
   ]
  },
  {
   "cell_type": "code",
   "execution_count": null,
   "metadata": {},
   "outputs": [],
   "source": [
    "# 10. Consulte el mejor equipo evaluado por cada ítem (según nota promedio. En caso de empate mostrar todos los empatados) \n",
    "# y el mejor equipo según el promedio total.\n",
    "# Tu código a continuación...\n"
   ]
  },
  {
   "cell_type": "code",
   "execution_count": null,
   "metadata": {},
   "outputs": [],
   "source": [
    "# 11. Consulte el peor equipo evaluado por cada ítem (según nota promedio. En caso de empate mostrar todos los empatados) \n",
    "# y el peor equipo según el promedio total.\n",
    "# Tu código a continuación...\n"
   ]
  },
  {
   "cell_type": "code",
   "execution_count": null,
   "metadata": {},
   "outputs": [],
   "source": [
    "# 12. Consulte la lista de estudiantes con la correspondiente nota obtenida en la presentación \n",
    "# (nota promedio total de la evaluación obtenida por el equipo)\n",
    "# Tu código a continuación...\n"
   ]
  }
 ],
 "metadata": {
  "kernelspec": {
   "display_name": "Python 3",
   "language": "python",
   "name": "python3"
  },
  "language_info": {
   "codemirror_mode": {
    "name": "ipython",
    "version": 3
   },
   "file_extension": ".py",
   "mimetype": "text/x-python",
   "name": "python",
   "nbconvert_exporter": "python",
   "pygments_lexer": "ipython3",
   "version": "3.6.9"
  }
 },
 "nbformat": 4,
 "nbformat_minor": 4
}
