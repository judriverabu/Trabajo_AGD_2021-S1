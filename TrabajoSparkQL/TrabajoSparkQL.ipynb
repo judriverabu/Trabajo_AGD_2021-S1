{
  "nbformat": 4,
  "nbformat_minor": 0,
  "metadata": {
    "colab": {
      "name": "TrabajoSparkQL.ipynb",
      "provenance": []
    },
    "kernelspec": {
      "display_name": "Python 3",
      "language": "python",
      "name": "python3"
    },
    "language_info": {
      "codemirror_mode": {
        "name": "ipython",
        "version": 3
      },
      "file_extension": ".py",
      "mimetype": "text/x-python",
      "name": "python",
      "nbconvert_exporter": "python",
      "pygments_lexer": "ipython3",
      "version": "3.6.9"
    }
  },
  "cells": [
    {
      "cell_type": "markdown",
      "metadata": {
        "id": "-5tYn_0KTx95"
      },
      "source": [
        "# Análisis e Implementación en SparkQL\n",
        "\n",
        "* Entrega hasta el 24 de mayo en https://forms.gle/aRiWtjayausRFCTd8\n",
        "\n",
        "* Los dos conjuntos de datos entregados, CSV separados por coma, Evaluación del Pitch (2021.04.13 ISoftware).csv y Asistencia del Pitch (2021.04.13 ISoftware).csv proceden de dos encuestas realizadas con Google Forms.\n",
        "\n",
        "* Los archivos proceden de las evaluaciones de los pitch (exposiciones cortas de negocio) que realizan los estudiantes de la asignatura de Ingeniería de Software. Los estudiantes están organizados en equipos. Cada equipo realiza una presentación de máximo 15 minutos, una vez inicia la presentación todos los estudiantes deben registrar su asistencia lo cual queda registrado en 'Asistencia del Pitch (2021.04.13 ISoftware).csv' incluidos los miembros del equipo.\n",
        "\n",
        "* El archivo `Asistencia del Pitch (2021.04.13 ISoftware).csv` contiene las columnas: `\"Marca temporal\"` es tiempo dado en fecha y hora, `\"Nombre de usuario\"` es el correo electrónico del estudiante y es texto,`\"Equipo al que perteneces:\"` equipo de trabajo al que pertenece el estudiante también es texto y `\"Equipo que va a exponer:\"` equipo que el estudiante va a tender a su presentación.\n",
        "\n",
        "* El archivo `Evaluación del Pitch (2021.04.13 ISoftware).csv` contiene las columnas `\"Marca temporal\"` es tiempo dado en fecha y hora, `\"Nombre de usuario\"` es el correo electrónico del estudiante y es texto, `\"Equipo que vas a evaluar:\"` equipo que ha expuesto y que va a ser evaluado por cada estudiante que no sea integrante; a continuación, se tienen las siguientes columnas que corresponden a la evaluación de los respectivos ítems:\n",
        "\n",
        "    1. \"Introducción: El equipo responde adecuadamente ¿Quiénes son y por qué están aquí?\",\n",
        "    2. \"Equipo: El equipo responde adecuadamente ¿Quiénes están detrás de la idea y cuál es su función?\",\n",
        "    3. \"Problema: El equipo responde adecuadamente ¿Qué problema resolverá?, ¿es realmente un problema?\",\n",
        "    4. \"Ventajas: El equipo responde adecuadamente ¿Por qué su solución es especial?, ¿qué la hace distinta de otras?\",\n",
        "    5. \"Solución: El equipo responde adecuadamente ¿Cómo piensa resolver el problema?\",\n",
        "    6. \"Producto: El equipo responde adecuadamente ¿Cómo funciona el producto o servicio? Muestra algunos ejemplos.\",\n",
        "    7. \"Tracción: El equipo responde adecuadamente si cuenta con clientes que demuestran potencial.\",\n",
        "    8. \"Mercado: El equipo responde conoce, o por lo menos intentar predecir, el tamaño del mercado que impactará.\",\n",
        "    9. \"Competencia: El equipo responde adecuadamente ¿Cuáles son las soluciones alternativas al problema que plantea?\",\n",
        "    10. \"Modelo de negocio: El equipo responde adecuadamente ¿Cómo hará dinero? \",\n",
        "    11. \"Inversión: El equipo responde adecuadamente ¿Cuál es su presupuesto y cuánto espera ganar?\",\n",
        "    12. \"Contacto: El equipo deja los datos al cliente y muestra cómo pueden contactarle.\",\n",
        "    13. \"Exposición: ¿Qué tan coordinados estaban los expositores?\",\n",
        "    14. \"Exposición: ¿Los expositores se expresaron con claridad y se hicieron entender?\",\n",
        "    15. \"Exposición: Las diapositivas son claras y coherentes y apoyaron adecuadamente la exposición.\",\n",
        "    * \"Suponiendo que eres inversionista, ¿Estarías dispuesto a invertir dinero en este equipo? (esta pregunta no se pondera en la nota)\",\n",
        "    * \"Observaciones para el equipo, estas observaciones las debe considerar el equipo para mejorar la siguiente presentación.\"\n",
        "\n",
        "\n",
        "* Cada ítem se evalúa con la siguiente escala: 0. Ausente; 1. Deficiente; 2. Regular; 3. Aceptable; 4. Bueno; 5. Excelente\n",
        "\n",
        "* Carge los datos, cada archivo en una tabla SparkSQL y responda cada una de las consultas dadas en cada celda. Tenga en cuenta que algunas consultas pueden tener como resultado el vacío."
      ]
    },
    {
      "cell_type": "markdown",
      "metadata": {
        "id": "Sup9U5MNTx9-"
      },
      "source": [
        "# Integrantes del equipo\n",
        "* **1.**  Juan David Rivera Builes   - 1128397071\n",
        "* **2.**  Daniel Cardona Velasquez   - 1053851588\n",
        "* **3.**  Carolina Loaiza Salazar    - 1036656435\n",
        "* **4.**  Santiago Vasquez Rodriguez - 1035428867\n"
      ]
    },
    {
      "cell_type": "code",
      "metadata": {
        "id": "PgP1sW2BTuum"
      },
      "source": [
        "# Agrege acá el código para importar las librerias\n",
        "\n",
        "\n",
        "# La libreria para \"encontrar el sevicio\" de Spark\n",
        "import findspark\n",
        "findspark.init()\n",
        "\n",
        "# Librerias para \"gestionar el servicio\" de Spark\n",
        "from pyspark import SparkConf, SparkContext\n",
        "from pyspark.sql import SQLContext, SparkSession\n",
        "\n",
        "# Creamos una aplicación Spark en el Servicio\n",
        "# Tenga cuidado con las tildes o caracteres especiales en el nombre de la app\n",
        "AppSpark = SparkConf().setAppName(\"Taller 02 SparkQL\")\n",
        "\n",
        "# definimos un espacio o contexto para la App\n",
        "ContextoSpark=SparkContext(conf=AppSpark)\n",
        "\n",
        "# inicio una sesión en el espacio de la App\n",
        "SesionSpark = SparkSession(ContextoSpark)\n",
        "\n",
        "# inicio del espacio o contexto SQL\n",
        "ContextoSql = SQLContext(sparkContext=ContextoSpark, sparkSession=SesionSpark)"
      ],
      "execution_count": null,
      "outputs": []
    },
    {
      "cell_type": "code",
      "metadata": {
        "id": "cNmkfxPsTx9_",
        "outputId": "54c6e6c6-ea00-4df8-8f83-9fdf2d0dd436"
      },
      "source": [
        "# 1. Cargue los datos en la carpeta datalake y luego del /datalake al HDFS (Hadoop File System)\n",
        "# Recuerda usar ! para ejecutar el comando en el shell. \n",
        "# Tu código a continuación...\n",
        "\n",
        "!ls datos\n"
      ],
      "execution_count": null,
      "outputs": [
        {
          "output_type": "stream",
          "text": [
            "Asistencia.csv\tEvaluacion.csv\n"
          ],
          "name": "stdout"
        }
      ]
    },
    {
      "cell_type": "code",
      "metadata": {
        "id": "D769R-IWTx-C"
      },
      "source": [
        "!hadoop fs -put datos/asistencia.csv"
      ],
      "execution_count": null,
      "outputs": []
    },
    {
      "cell_type": "code",
      "metadata": {
        "id": "4b2OLKT3Tx-D"
      },
      "source": [
        "!hadoop fs -put datos/evaluacion.csv"
      ],
      "execution_count": null,
      "outputs": []
    },
    {
      "cell_type": "code",
      "metadata": {
        "id": "G_6lyV8cTx-E",
        "outputId": "7dd7a5ce-629b-43a6-e868-04ff59035ab1"
      },
      "source": [
        "!hadoop fs -ls"
      ],
      "execution_count": null,
      "outputs": [
        {
          "output_type": "stream",
          "text": [
            "Found 6 items\n",
            "drwxr-xr-x   - root root       4096 2021-05-27 23:37 .ipynb_checkpoints\n",
            "-rwxrwxrwx   1 root root      25621 2021-05-02 16:45 Datos para el Trabajo.zip\n",
            "-rwxrwxrwx   1 root root      68174 2021-05-27 23:29 TrabajoSparkQL.ipynb\n",
            "-rw-r--r--   1 root root      93121 2021-05-27 23:46 asistencia.csv\n",
            "drwxrwxrwx   - root root       4096 2021-05-27 23:33 datos\n",
            "-rw-r--r--   1 root root     111944 2021-05-27 23:46 evaluacion.csv\n"
          ],
          "name": "stdout"
        }
      ]
    },
    {
      "cell_type": "code",
      "metadata": {
        "id": "EVSe5mg-Tx-E"
      },
      "source": [
        "# 2. Cree dos tablas SparkSQL y almacene el csv en su correspondiente tabla.\n",
        "# Observación: tenga especial cuidado con los encabezados de los archivos CSV.\n",
        "# Usted puede considerar cambiar los encabezados de los CSV originales\n",
        "# Tu código a continuación...\n",
        "\n"
      ],
      "execution_count": null,
      "outputs": []
    },
    {
      "cell_type": "code",
      "metadata": {
        "id": "e0PLXaRoTx-F",
        "outputId": "11e837ee-5ce1-4fb3-80aa-37ad60614d35"
      },
      "source": [
        "!hadoop fs -cat asistencia.csv | head"
      ],
      "execution_count": null,
      "outputs": [
        {
          "output_type": "stream",
          "text": [
            "\"Marca temporal\",\"Nombre de usuario\",\"Equipo al que perteneces:\",\"Equipo que va a exponer:\"\n",
            "\"2021/04/08 8:07:55 a.��m. GMT-5\",\"jppinedal@unal.edu.co\",\"Pertenezco a: Servicios a domicilio\",\"Expone: Servicios a domicilio\"\n",
            "\"2021/04/08 8:09:39 a.��m. GMT-5\",\"dgarciabl@unal.edu.co\",\"Pertenezco a: Lo tengo y te lo presto.\",\"Expone: Lo tengo y te lo presto.\"\n",
            "\"2021/04/08 8:09:53 a.��m. GMT-5\",\"auarbelaeza@unal.edu.co\",\"Pertenezco a: Gesti��n de Residencias y Habitaciones Universitarias.\",\"Expone: Te lo cambio.\"\n",
            "\"2021/04/08 8:09:55 a.��m. GMT-5\",\"jmunozhe@unal.edu.co\",\"Pertenezco a: Lo tengo y te lo presto.\",\"Expone: Te lo cambio.\"\n",
            "\"2021/04/08 8:10:03 a.��m. GMT-5\",\"dgerenal@unal.edu.co\",\"Pertenezco a: Te lo cambio.\",\"Expone: Te lo cambio.\"\n",
            "\"2021/04/08 8:10:18 a.��m. GMT-5\",\"nvalenciat@unal.edu.co\",\"Pertenezco a: Te lo cambio.\",\"Expone: Te lo cambio.\"\n",
            "\"2021/04/08 8:10:18 a.��m. GMT-5\",\"fmiranda@unal.edu.co\",\"Pertenezco a: Mi Sanandresito\",\"Expone: Te lo cambio.\"\n",
            "\"2021/04/08 8:10:26 a.��m. GMT-5\",\"jucardonaa@unal.edu.co\",\"Pertenezco a: Gesti��n de programas curriculares\",\"Expone: Te lo cambio.\"\n",
            "\"2021/04/08 8:10:28 a.��m. GMT-5\",\"seagudeloo@unal.edu.co\",\"Pertenezco a: Gesti��n de Residencias y Habitaciones Universitarias.\",\"Expone: Te lo cambio.\"\n",
            "cat: Unable to write to output stream.\n"
          ],
          "name": "stdout"
        }
      ]
    },
    {
      "cell_type": "code",
      "metadata": {
        "id": "x3g4zyN-Tx-G",
        "outputId": "6a6ae3f2-8a55-40d8-d06b-67e1f8d48498"
      },
      "source": [
        "!hadoop fs -cat evaluacion.csv | head"
      ],
      "execution_count": null,
      "outputs": [
        {
          "output_type": "stream",
          "text": [
            "\"Marca temporal\",\"Nombre de usuario\",\"Equipo que vas a evaluar:\",\"Introducci��n: El equipo responde adecuadamente ��Qui��nes son y por qu�� est��n aqu��?\",\"Equipo: El equipo responde adecuadamente ��Qui��nes est��n detr��s de la idea y cu��l es su funci��n?\",\"Problema: El equipo responde adecuadamente ��Qu�� problema resolver��?, ��es realmente un problema?\",\"Ventajas: El equipo responde adecuadamente ��Por qu�� su soluci��n es especial?, ��qu�� la hace distinta de otras?\",\"Soluci��n: El equipo responde adecuadamente ��C��mo piensa resolver el problema?\",\"Producto: El equipo responde adecuadamente ��C��mo funciona el producto o servicio? Muestra algunos ejemplos.\",\"Tracci��n: El equipo responde adecuadamente si cuenta con clientes que demuestran potencial.\",\"Mercado: El equipo responde conoce, o por lo menos intentar predecir, el tama��o del mercado que impactar��.\",\"Competencia: El equipo responde adecuadamente ��Cu��les son las soluciones alternativas al problema que plantea?\",\"Modelo de negocio: El equipo responde adecuadamente ��C��mo har�� dinero? \",\"Inversi��n: El equipo responde adecuadamente ��Cu��l es su presupuesto y cu��nto espera ganar?\",\"Contacto: El equipo deja los datos al cliente y muestra c��mo pueden contactarle.\",\"Exposici��n: ��Qu�� tan coordinados estaban los expositores?\",\"Exposici��n: ��Los expositores se expresaron con claridad y se hicieron entender?\",\"Exposici��n: Las diapositivas son claras y coherentes y apoyaron adecuadamente la exposici��n.\",\"Suponiendo que eres inversionista, ��Estar��as dispuesto a invertir dinero en este equipo? (esta pregunta no se pondera en la nota)\",\"Observaciones para el equipo, estas observaciones las debe considerar el equipo para mejorar la siguiente presentaci��n.\"\n",
            "\"2021/04/08 8:26:30 a.��m. GMT-5\",\"jmunozbo@unal.edu.co\",\"Te lo cambio.\",\"5\",\"5\",\"5\",\"5\",\"5\",\"5\",\"5\",\"5\",\"5\",\"5\",\"3\",\"5\",\"5\",\"5\",\"5\",\"Tal vez\",\"\"\n",
            "\"2021/04/08 8:26:49 a.��m. GMT-5\",\"daestradam@unal.edu.co\",\"Te lo cambio.\",\"5\",\"5\",\"5\",\"4\",\"5\",\"5\",\"4\",\"5\",\"4\",\"4\",\"4\",\"4\",\"4\",\"5\",\"5\",\"Tal vez\",\"\"\n",
            "\"2021/04/08 8:27:29 a.��m. GMT-5\",\"seagudeloo@unal.edu.co\",\"Te lo cambio.\",\"4\",\"4\",\"4\",\"4\",\"4\",\"4\",\"4\",\"4\",\"3\",\"4\",\"3\",\"5\",\"5\",\"4\",\"5\",\"S��\",\"\"\n",
            "\"2021/04/08 8:27:34 a.��m. GMT-5\",\"jubuitrago@unal.edu.co\",\"Te lo cambio.\",\"5\",\"4\",\"5\",\"4\",\"5\",\"5\",\"4\",\"4\",\"5\",\"4\",\"4\",\"4\",\"5\",\"5\",\"5\",\"No\",\"Realmente siento que lo hicieron muy bien\"\n",
            "\"2021/04/08 8:27:45 a.��m. GMT-5\",\"acastrillonv@unal.edu.co\",\"Te lo cambio.\",\"3\",\"3\",\"2\",\"2\",\"3\",\"4\",\"3\",\"3\",\"3\",\"4\",\"3\",\"4\",\"4\",\"3\",\"3\",\"No\",\"\"\n",
            "\"2021/04/08 8:27:51 a.��m. GMT-5\",\"dgiraldolo@unal.edu.co\",\"Te lo cambio.\",\"3\",\"2\",\"4\",\"3\",\"4\",\"4\",\"3\",\"3\",\"4\",\"4\",\"3\",\"3\",\"2\",\"3\",\"3\",\"Tal vez\",\"La presentaci��n se hizo de manera pr��cticamente individual por parte de un expositor\"\n",
            "\"2021/04/08 8:27:57 a.��m. GMT-5\",\"jmonsalveb@unal.edu.co\",\"Te lo cambio.\",\"4\",\"5\",\"4\",\"4\",\"5\",\"5\",\"4\",\"5\",\"5\",\"5\",\"4\",\"5\",\"5\",\"5\",\"4\",\"S��\",\"Me pareci�� buena exposici��n, no tengo aportes para dar a este equipo.\"\n",
            "\"2021/04/08 8:27:58 a.��m. GMT-5\",\"dosoriom@unal.edu.co\",\"Te lo cambio.\",\"5\",\"5\",\"5\",\"4\",\"5\",\"5\",\"5\",\"5\",\"5\",\"5\",\"5\",\"5\",\"5\",\"5\",\"4\",\"S��\",\"Muy chevere como muestran las interfaces gr��ficas de como funciona la app\"\n",
            "\"2021/04/08 8:28:15 a.��m. GMT-5\",\"jlopezpe@unal.edu.co\",\"Te lo cambio.\",\"4\",\"2\",\"4\",\"4\",\"4\",\"5\",\"4\",\"5\",\"3\",\"4\",\"3\",\"5\",\"5\",\"3\",\"4\",\"Tal vez\",\"Creo que se olvidaron de algunos detalles generales que no tomaron en cuenta , por ejemplo se me acurre el replantear el hecho de que se multe por cancelar un pr��stamo.\"\n",
            "cat: Unable to write to output stream.\n"
          ],
          "name": "stdout"
        }
      ]
    },
    {
      "cell_type": "code",
      "metadata": {
        "id": "GHJNWEmsTx-I",
        "outputId": "65a4fe06-a4d3-4067-c24c-a6f53916179d"
      },
      "source": [
        "ContextoSql.sql(\"DROP TABLE IF EXISTS asistencia\")"
      ],
      "execution_count": null,
      "outputs": [
        {
          "output_type": "execute_result",
          "data": {
            "text/plain": [
              "DataFrame[]"
            ]
          },
          "metadata": {
            "tags": []
          },
          "execution_count": 9
        }
      ]
    },
    {
      "cell_type": "code",
      "metadata": {
        "id": "JE3d_rb-Tx-J"
      },
      "source": [
        "ContextoSql.sql(\"\"\"\n",
        "CREATE TABLE IF NOT EXISTS \n",
        "asistencia (\n",
        "    Marca_temporal             STRING,\n",
        "    Nombre_de_usuario          STRING,\n",
        "    Equipo_al_que_perteneces   STRING,\n",
        "    Equipo_que_va_a_exponer    STRING\n",
        "        ) \n",
        "USING CSV OPTIONS ( \n",
        "    header='true', \n",
        "    nullvalue='NA', \n",
        "    timestampFormat=\\\"yyyy-MM-dd'T'HH:mm:ss\\\", \n",
        "    path='asistencia.csv')\n",
        "    \"\"\"); "
      ],
      "execution_count": null,
      "outputs": []
    },
    {
      "cell_type": "code",
      "metadata": {
        "id": "7bLjGwcsTx-K",
        "outputId": "83acef41-5184-4792-d9a0-ea7973eba49f"
      },
      "source": [
        "ContextoSql.sql(\"SHOW TABLES\").show()"
      ],
      "execution_count": null,
      "outputs": [
        {
          "output_type": "stream",
          "text": [
            "+--------+----------+-----------+\n",
            "|database| tableName|isTemporary|\n",
            "+--------+----------+-----------+\n",
            "| default|asistencia|      false|\n",
            "+--------+----------+-----------+\n",
            "\n"
          ],
          "name": "stdout"
        }
      ]
    },
    {
      "cell_type": "code",
      "metadata": {
        "id": "SO1dZwNaTx-K",
        "outputId": "e6e1a2f9-6cd4-45b5-fda7-cb45ee9c6a7e"
      },
      "source": [
        "consulta = ContextoSql.sql(\"SELECT * FROM asistencia\")\n",
        "consulta.show(10)"
      ],
      "execution_count": null,
      "outputs": [
        {
          "output_type": "stream",
          "text": [
            "+--------------------+--------------------+------------------------+-----------------------+\n",
            "|      Marca_temporal|   Nombre_de_usuario|Equipo_al_que_perteneces|Equipo_que_va_a_exponer|\n",
            "+--------------------+--------------------+------------------------+-----------------------+\n",
            "|2021/04/08 8:07:5...|jppinedal@unal.ed...|    Pertenezco a: Ser...|   Expone: Servicios...|\n",
            "|2021/04/08 8:09:3...|dgarciabl@unal.ed...|    Pertenezco a: Lo ...|   Expone: Lo tengo ...|\n",
            "|2021/04/08 8:09:5...|auarbelaeza@unal....|    Pertenezco a: Ges...|   Expone: Te lo cam...|\n",
            "|2021/04/08 8:09:5...|jmunozhe@unal.edu.co|    Pertenezco a: Lo ...|   Expone: Te lo cam...|\n",
            "|2021/04/08 8:10:0...|dgerenal@unal.edu.co|    Pertenezco a: Te ...|   Expone: Te lo cam...|\n",
            "|2021/04/08 8:10:1...|nvalenciat@unal.e...|    Pertenezco a: Te ...|   Expone: Te lo cam...|\n",
            "|2021/04/08 8:10:1...|fmiranda@unal.edu.co|    Pertenezco a: Mi ...|   Expone: Te lo cam...|\n",
            "|2021/04/08 8:10:2...|jucardonaa@unal.e...|    Pertenezco a: Ges...|   Expone: Te lo cam...|\n",
            "|2021/04/08 8:10:2...|seagudeloo@unal.e...|    Pertenezco a: Ges...|   Expone: Te lo cam...|\n",
            "|2021/04/08 8:10:2...|jmonsalveb@unal.e...|    Pertenezco a: Ges...|   Expone: Te lo cam...|\n",
            "+--------------------+--------------------+------------------------+-----------------------+\n",
            "only showing top 10 rows\n",
            "\n"
          ],
          "name": "stdout"
        }
      ]
    },
    {
      "cell_type": "code",
      "metadata": {
        "id": "Gcsfh0kGTuuv",
        "outputId": "1fb22028-ff82-4b4f-fa2c-eebc7a85f245"
      },
      "source": [
        "ContextoSql.sql(\"DROP TABLE IF EXISTS evaluacion\")"
      ],
      "execution_count": null,
      "outputs": [
        {
          "output_type": "execute_result",
          "data": {
            "text/plain": [
              "DataFrame[]"
            ]
          },
          "metadata": {
            "tags": []
          },
          "execution_count": 13
        }
      ]
    },
    {
      "cell_type": "code",
      "metadata": {
        "id": "Ex0FzyXETx-L"
      },
      "source": [
        "ContextoSql.sql(\"\"\"\n",
        "CREATE TABLE IF NOT EXISTS \n",
        "evaluacion (\n",
        "          Marca_temporal            STRING,\n",
        "          Nombre_de_usuario         STRING,\n",
        "          Equipo_que_vas_a_evaluar  STRING ,\n",
        "          Introduccion              INT,\n",
        "          Equipo                    INT,\n",
        "          Problema                  INT,\n",
        "          Ventajas                  INT,\n",
        "          Solucion                  INT,\n",
        "          Producto                  INT,\n",
        "          Traccion                  INT,\n",
        "          Mercado                   INT,\n",
        "          Competencia               INT,\n",
        "          Modelo_de_negocio         INT,\n",
        "          Inversion                 INT,\n",
        "          Contacto                  INT,\n",
        "          Exposicion_1              INT,\n",
        "          Exposicion_2              INT,\n",
        "          Exposicion_3              INT,\n",
        "          invertirias_dinero        STRING,\n",
        "          observaciones             STRING\n",
        "        ) \n",
        "USING CSV OPTIONS ( \n",
        "    header='true', \n",
        "    nullvalue='NA', \n",
        "    timestampFormat=\\\"yyyy-MM-dd'T'HH:mm:ss\\\", \n",
        "    path='evaluacion.csv')\n",
        "    \"\"\"); "
      ],
      "execution_count": null,
      "outputs": []
    },
    {
      "cell_type": "code",
      "metadata": {
        "id": "QEmwQCOdTx-M",
        "outputId": "1c488e3b-2fc9-4ee3-9e55-a92ce5851569"
      },
      "source": [
        "ContextoSql.sql(\"SHOW TABLES\").show()"
      ],
      "execution_count": null,
      "outputs": [
        {
          "output_type": "stream",
          "text": [
            "+--------+----------+-----------+\n",
            "|database| tableName|isTemporary|\n",
            "+--------+----------+-----------+\n",
            "| default|asistencia|      false|\n",
            "| default|evaluacion|      false|\n",
            "+--------+----------+-----------+\n",
            "\n"
          ],
          "name": "stdout"
        }
      ]
    },
    {
      "cell_type": "code",
      "metadata": {
        "id": "6KsAHIaqTx-N",
        "outputId": "e9c4d7f4-0c31-4c54-be3c-00ec8df6648d"
      },
      "source": [
        "consulta = ContextoSql.sql(\"\"\"\n",
        "                           SELECT \n",
        "                           marca_temporal,\n",
        "                           nombre_de_usuario ,\n",
        "                           Equipo_que_vas_a_evaluar,\n",
        "                           Introduccion,\n",
        "                           Equipo,\n",
        "                           Problema\n",
        "                           FROM evaluacion\n",
        "                           \"\"\")\n",
        "consulta.show(10)"
      ],
      "execution_count": null,
      "outputs": [
        {
          "output_type": "stream",
          "text": [
            "+--------------------+--------------------+------------------------+------------+------+--------+\n",
            "|      marca_temporal|   nombre_de_usuario|Equipo_que_vas_a_evaluar|Introduccion|Equipo|Problema|\n",
            "+--------------------+--------------------+------------------------+------------+------+--------+\n",
            "|2021/04/08 8:26:3...|jmunozbo@unal.edu.co|           Te lo cambio.|           5|     5|       5|\n",
            "|2021/04/08 8:26:4...|daestradam@unal.e...|           Te lo cambio.|           5|     5|       5|\n",
            "|2021/04/08 8:27:2...|seagudeloo@unal.e...|           Te lo cambio.|           4|     4|       4|\n",
            "|2021/04/08 8:27:3...|jubuitrago@unal.e...|           Te lo cambio.|           5|     4|       5|\n",
            "|2021/04/08 8:27:4...|acastrillonv@unal...|           Te lo cambio.|           3|     3|       2|\n",
            "|2021/04/08 8:27:5...|dgiraldolo@unal.e...|           Te lo cambio.|           3|     2|       4|\n",
            "|2021/04/08 8:27:5...|jmonsalveb@unal.e...|           Te lo cambio.|           4|     5|       4|\n",
            "|2021/04/08 8:27:5...|dosoriom@unal.edu.co|           Te lo cambio.|           5|     5|       5|\n",
            "|2021/04/08 8:28:1...|jlopezpe@unal.edu.co|           Te lo cambio.|           4|     2|       4|\n",
            "|2021/04/08 8:28:1...|angutierrezb@unal...|    Lo tengo y te lo ...|           4|     4|       5|\n",
            "+--------------------+--------------------+------------------------+------------+------+--------+\n",
            "only showing top 10 rows\n",
            "\n"
          ],
          "name": "stdout"
        }
      ]
    },
    {
      "cell_type": "code",
      "metadata": {
        "id": "I-e3QV-zTx-N",
        "outputId": "12db312b-9a1a-46ef-addb-92ba012aa2a0"
      },
      "source": [
        "consulta = ContextoSql.sql(\"describe evaluacion\")\n",
        "consulta.show()"
      ],
      "execution_count": null,
      "outputs": [
        {
          "output_type": "stream",
          "text": [
            "+--------------------+---------+-------+\n",
            "|            col_name|data_type|comment|\n",
            "+--------------------+---------+-------+\n",
            "|      Marca_temporal|   string|   null|\n",
            "|   Nombre_de_usuario|   string|   null|\n",
            "|Equipo_que_vas_a_...|   string|   null|\n",
            "|        Introduccion|      int|   null|\n",
            "|              Equipo|      int|   null|\n",
            "|            Problema|      int|   null|\n",
            "|            Ventajas|      int|   null|\n",
            "|            Solucion|      int|   null|\n",
            "|            Producto|      int|   null|\n",
            "|            Traccion|      int|   null|\n",
            "|             Mercado|      int|   null|\n",
            "|         Competencia|      int|   null|\n",
            "|   Modelo_de_negocio|      int|   null|\n",
            "|           Inversion|      int|   null|\n",
            "|            Contacto|      int|   null|\n",
            "|        Exposicion_1|      int|   null|\n",
            "|        Exposicion_2|      int|   null|\n",
            "|        Exposicion_3|      int|   null|\n",
            "|  invertirias_dinero|   string|   null|\n",
            "|       observaciones|   string|   null|\n",
            "+--------------------+---------+-------+\n",
            "\n"
          ],
          "name": "stdout"
        }
      ]
    },
    {
      "cell_type": "code",
      "metadata": {
        "id": "TwbmB4FVTx-O",
        "outputId": "8ca065e2-7851-4d96-bbd2-98e045e41c3a"
      },
      "source": [
        "# 2. Consulte el listado total de estudiantes (correos electrónicos) del \n",
        "# curso de Ingeniería de Software, ordenados alfabéticamente\n",
        "# Tu código a continuación...\n",
        "consulta = ContextoSql.sql(\"\"\"\n",
        "                            SELECT \n",
        "                            nombre_de_usuario\n",
        "                            ,COUNT(1) as cantidad_encuestas_hechas\n",
        "                            FROM asistencia\n",
        "                            GROUP BY 1\n",
        "                            HAVING COUNT(1)>1\n",
        "                            ORDER BY 1 \n",
        "                            \"\"\"\n",
        "                          )\n",
        "consulta.show()\n"
      ],
      "execution_count": null,
      "outputs": [
        {
          "output_type": "stream",
          "text": [
            "+--------------------+-------------------------+\n",
            "|   nombre_de_usuario|cantidad_encuestas_hechas|\n",
            "+--------------------+-------------------------+\n",
            "| abanolc@unal.edu.co|                        7|\n",
            "|acastrillonv@unal...|                        8|\n",
            "| aflemag@unal.edu.co|                        8|\n",
            "|anapariciom@unal....|                       10|\n",
            "|angutierrezb@unal...|                        8|\n",
            "|anoriega@unal.edu.co|                        8|\n",
            "|auarbelaeza@unal....|                        8|\n",
            "| bocampo@unal.edu.co|                        8|\n",
            "|cgiraldo@unal.edu.co|                        8|\n",
            "|cjfunezg@unal.edu.co|                        8|\n",
            "|cquinchiar@unal.e...|                        6|\n",
            "| dadazam@unal.edu.co|                        9|\n",
            "|daestradam@unal.e...|                        8|\n",
            "|davgarciava@unal....|                        8|\n",
            "|dballesteroso@una...|                        8|\n",
            "|  dbrito@unal.edu.co|                        7|\n",
            "|dcadavid@unal.edu.co|                        8|\n",
            "|dcardonaal@unal.e...|                        8|\n",
            "|dchavarriar@unal....|                        8|\n",
            "|dgarciabl@unal.ed...|                        9|\n",
            "+--------------------+-------------------------+\n",
            "only showing top 20 rows\n",
            "\n"
          ],
          "name": "stdout"
        }
      ]
    },
    {
      "cell_type": "code",
      "metadata": {
        "id": "ss9F_NxOTx-O",
        "outputId": "3332e21c-5589-4d99-e18b-7b8eeedfe874"
      },
      "source": [
        "# 3. Consulte la cantidad de asistencias registradas por estudiante; además, la fecha y hora de la primera asistencia\n",
        "# y la fecha y hora de la última asistencia\n",
        "# Tu código a continuación...\n",
        "\n",
        "consulta = ContextoSql.sql(\"\"\"\n",
        "                          WITH fecha_form AS (\n",
        "                            SELECT \n",
        "                             *\n",
        "                             ,TO_TIMESTAMP(MARCA_TEMPORAL,\"yyyy/MM/dd hh:mm:ss \") AS Fecha_con_formato\n",
        "                            FROM asistencia\n",
        "                            )\n",
        "                            SELECT \n",
        "                            nombre_de_usuario\n",
        "                            ,COUNT(1)                  AS cantidad_encuestas_hechas\n",
        "                            ,MIN(Fecha_con_formato)    AS primera_asistencia\n",
        "                            ,MAX(Fecha_con_formato)    AS ultima_asistencia\n",
        "                            FROM fecha_form\n",
        "                            GROUP BY 1\n",
        "                            ORDER BY 1 \n",
        "                            \"\"\"\n",
        "                          )\n",
        "consulta.show()\n"
      ],
      "execution_count": null,
      "outputs": [
        {
          "output_type": "stream",
          "text": [
            "+--------------------+-------------------------+-------------------+-------------------+\n",
            "|   nombre_de_usuario|cantidad_encuestas_hechas| primera_asistencia|  ultima_asistencia|\n",
            "+--------------------+-------------------------+-------------------+-------------------+\n",
            "| abanolc@unal.edu.co|                        7|2021-04-08 08:12:14|2021-04-13 09:37:56|\n",
            "|acastrillonv@unal...|                        8|2021-04-08 08:13:06|2021-04-13 09:43:13|\n",
            "| aflemag@unal.edu.co|                        8|2021-04-08 08:11:58|2021-04-13 09:41:54|\n",
            "|anapariciom@unal....|                       10|2021-04-08 08:11:49|2021-04-13 09:38:51|\n",
            "|angutierrezb@unal...|                        8|2021-04-08 08:19:06|2021-04-13 09:43:54|\n",
            "|anoriega@unal.edu.co|                        8|2021-04-08 08:15:18|2021-04-13 09:40:20|\n",
            "|auarbelaeza@unal....|                        8|2021-04-08 08:09:53|2021-04-13 09:41:04|\n",
            "| bocampo@unal.edu.co|                        8|2021-04-08 08:13:30|2021-04-13 09:42:16|\n",
            "|cgiraldo@unal.edu.co|                        8|2021-04-08 08:44:23|2021-04-13 09:56:44|\n",
            "|cjfunezg@unal.edu.co|                        8|2021-04-08 08:12:15|2021-04-13 09:41:46|\n",
            "|cquinchiar@unal.e...|                        6|2021-04-08 08:33:32|2021-04-13 09:49:09|\n",
            "| dadazam@unal.edu.co|                        9|2021-04-08 08:13:18|2021-04-13 09:41:14|\n",
            "|daestradam@unal.e...|                        8|2021-04-08 08:10:39|2021-04-13 09:44:39|\n",
            "|davgarciava@unal....|                        8|2021-04-08 08:13:45|2021-04-13 09:42:39|\n",
            "|dballesteroso@una...|                        8|2021-04-08 08:14:23|2021-04-13 09:49:07|\n",
            "|  dbrito@unal.edu.co|                        7|2021-04-08 08:19:07|2021-04-13 09:41:36|\n",
            "|dcadavid@unal.edu.co|                        8|2021-04-08 08:13:07|2021-04-13 09:40:58|\n",
            "|dcardonaal@unal.e...|                        8|2021-04-08 08:12:03|2021-04-13 09:42:14|\n",
            "|dchavarriar@unal....|                        8|2021-04-08 08:13:08|2021-04-13 09:43:56|\n",
            "|dgarciabl@unal.ed...|                        9|2021-04-08 08:09:39|2021-04-13 09:41:04|\n",
            "+--------------------+-------------------------+-------------------+-------------------+\n",
            "only showing top 20 rows\n",
            "\n"
          ],
          "name": "stdout"
        }
      ]
    },
    {
      "cell_type": "code",
      "metadata": {
        "id": "oea3j29CTx-P",
        "outputId": "10e33407-6dfc-4c3b-9b0d-c2edc48c1e42"
      },
      "source": [
        "# 4. Consulte el listado de estudiantes que asistieron a 2 presentaciones o menos (una).\n",
        "# Tu código a continuación...\n",
        "consulta = ContextoSql.sql(\"\"\"\n",
        "                            SELECT \n",
        "                            nombre_de_usuario\n",
        "                            ,COUNT(1) as cantidad_encuestas_hechas\n",
        "                            FROM asistencia\n",
        "                            GROUP BY 1\n",
        "                            HAVING COUNT(1)<=2\n",
        "                            ORDER BY 2 DESC\n",
        "                            \"\"\"\n",
        "                          )\n",
        "consulta.show()"
      ],
      "execution_count": null,
      "outputs": [
        {
          "output_type": "stream",
          "text": [
            "+--------------------+-------------------------+\n",
            "|   nombre_de_usuario|cantidad_encuestas_hechas|\n",
            "+--------------------+-------------------------+\n",
            "|jdroldano@unal.ed...|                        1|\n",
            "+--------------------+-------------------------+\n",
            "\n"
          ],
          "name": "stdout"
        }
      ]
    },
    {
      "cell_type": "code",
      "metadata": {
        "id": "6nn0JsmaTx-P",
        "outputId": "d528e846-4c50-49ba-967c-68152d25a666"
      },
      "source": [
        "# 5. Consulte el listado de estudiantes que no asistieron a ninguna presentación.\n",
        "# Tu código a continuación...\n",
        "consulta = ContextoSql.sql(\"\"\"\n",
        "                            SELECT \n",
        "                            DISTINCT\n",
        "                            t1.nombre_de_usuario\n",
        "                            FROM asistencia t1\n",
        "                            LEFT JOIN evaluacion t2 ON  t1.nombre_de_usuario=t2.nombre_de_usuario\n",
        "                            WHERE t2.nombre_de_usuario IS NULL\n",
        "                            \"\"\"\n",
        "                          )\n",
        "consulta.show()\n"
      ],
      "execution_count": null,
      "outputs": [
        {
          "output_type": "stream",
          "text": [
            "+-----------------+\n",
            "|nombre_de_usuario|\n",
            "+-----------------+\n",
            "+-----------------+\n",
            "\n"
          ],
          "name": "stdout"
        }
      ]
    },
    {
      "cell_type": "code",
      "metadata": {
        "id": "h9NgYHDdTx-P",
        "outputId": "715da84e-b7ad-4b1b-ca99-82019152525e"
      },
      "source": [
        "# 6. Consulte los integrantes por cada equipo al que pertenecen.\n",
        "# Tu código a continuación...\n",
        "consulta = ContextoSql.sql(\"\"\"\n",
        "                          WITH integrantes AS (\n",
        "                            SELECT \n",
        "                            DISTINCT\n",
        "                            REPLACE(Equipo_al_que_perteneces,\"Pertenezco a:\",\"\") as equipo\n",
        "                            ,nombre_de_usuario\n",
        "                            FROM asistencia \n",
        "                            )\n",
        "                            SELECT \n",
        "                            equipo\n",
        "                            ,COUNT(1) AS integrantes_en_equipo\n",
        "                            FROM integrantes\n",
        "                            GROUP BY 1\n",
        "                            \"\"\"\n",
        "                          )\n",
        "consulta.show()\n"
      ],
      "execution_count": null,
      "outputs": [
        {
          "output_type": "stream",
          "text": [
            "+--------------------+---------------------+\n",
            "|              equipo|integrantes_en_equipo|\n",
            "+--------------------+---------------------+\n",
            "| Lo tengo y te lo...|                   11|\n",
            "| Gestión de Resid...|                   12|\n",
            "| Gestión de progr...|                    9|\n",
            "|     Mi Sanandresito|                   10|\n",
            "| Servicios a domi...|                   10|\n",
            "| Administración d...|                   13|\n",
            "|       Te lo cambio.|                   11|\n",
            "| Gestión de Menús...|                   11|\n",
            "+--------------------+---------------------+\n",
            "\n"
          ],
          "name": "stdout"
        }
      ]
    },
    {
      "cell_type": "code",
      "metadata": {
        "id": "mOTNiubyTx-Q",
        "outputId": "e47cc77b-3ee2-4f39-fb29-3b69a1d33ac8"
      },
      "source": [
        "# 7. Consulte la cantidad de asistentes por presentación, sin considerar los asistentes que pertenecen \n",
        "# al equipo que realizó la presentación.\n",
        "# Tu código a continuación...\n",
        "\n",
        "consulta = ContextoSql.sql(\"\"\"\n",
        "                          WITH asis AS (\n",
        "                            SELECT \n",
        "                            REPLACE(Equipo_al_que_perteneces,\"Pertenezco a:\",\"\") as integrantes\n",
        "                            ,REPLACE(Equipo_que_va_a_exponer,\"Expone:\",\"\") as presentacion\n",
        "                            ,nombre_de_usuario\n",
        "                            FROM asistencia \n",
        "                            )\n",
        "                            SELECT \n",
        "                            presentacion\n",
        "                            ,COUNT(2) AS asistentes\n",
        "                            FROM asis\n",
        "                            WHERE integrantes<>presentacion\n",
        "                            GROUP BY 1\n",
        "                            \"\"\"\n",
        "                          )\n",
        "consulta.show()\n",
        "\n"
      ],
      "execution_count": null,
      "outputs": [
        {
          "output_type": "stream",
          "text": [
            "+--------------------+----------+\n",
            "|        presentacion|asistentes|\n",
            "+--------------------+----------+\n",
            "| Lo tengo y te lo...|        75|\n",
            "| Gestión de Resid...|        72|\n",
            "| Gestión de progr...|        74|\n",
            "|     Mi Sanandresito|        72|\n",
            "| Deserción de est...|         3|\n",
            "| Servicios a domi...|        76|\n",
            "| Administración d...|        70|\n",
            "|       Te lo cambio.|        75|\n",
            "| Gestión de Menús...|        72|\n",
            "+--------------------+----------+\n",
            "\n"
          ],
          "name": "stdout"
        }
      ]
    },
    {
      "cell_type": "code",
      "metadata": {
        "id": "GhzAN-MgTx-Q",
        "outputId": "e7ff48de-84de-425d-e280-886bdbaf8e1c"
      },
      "source": [
        "# 8. Consutar cuáles integrantes evaluaron a su propio equipo. Estas evaluaciones no serán válidas, pues un\n",
        "# integrante no puede evaluar a su propio equipo.\n",
        "# Tu código a continuación...\n",
        "consulta = ContextoSql.sql(\"\"\"\n",
        "                        WITH completo AS (\n",
        "                          SELECT\n",
        "                          REPLACE(asistencia.Equipo_al_que_perteneces,\"Pertenezco a: \",\"\") as integrantes\n",
        "                          ,evaluacion.Equipo_que_vas_a_evaluar as evaluado\n",
        "                          ,asistencia.nombre_de_usuario as usuario\n",
        "                          FROM evaluacion\n",
        "                          INNER JOIN asistencia\n",
        "                          ON asistencia.nombre_de_usuario = evaluacion.nombre_de_usuario )\n",
        "                          SELECT\n",
        "                          usuario\n",
        "                          ,COUNT(1) AS Evaluaciones_propias\n",
        "                          FROM completo\n",
        "                          WHERE integrantes=evaluado\n",
        "                          GROUP BY 1\n",
        "                            \"\"\"\n",
        "                          )\n",
        "consulta.show()\n",
        "\n"
      ],
      "execution_count": null,
      "outputs": [
        {
          "output_type": "stream",
          "text": [
            "+--------------------+--------------------+\n",
            "|             usuario|Evaluaciones_propias|\n",
            "+--------------------+--------------------+\n",
            "| jruedat@unal.edu.co|                   8|\n",
            "| kmolano@unal.edu.co|                   1|\n",
            "|mcarvajalsa@unal....|                   1|\n",
            "|daestradam@unal.e...|                   8|\n",
            "|jhcordoba@unal.ed...|                   1|\n",
            "|  lmayar@unal.edu.co|                   9|\n",
            "|hriveraa@unal.edu.co|                   7|\n",
            "|anapariciom@unal....|                   1|\n",
            "+--------------------+--------------------+\n",
            "\n"
          ],
          "name": "stdout"
        }
      ]
    },
    {
      "cell_type": "code",
      "metadata": {
        "id": "4sXx_YR5Tx-R",
        "outputId": "569bae23-5753-48b5-d804-398fbd657fbf"
      },
      "source": [
        "# 9. Consultar la nota promedio por cada ítem (1 al 15), y la nota promedio total del cada equipo. Recuerde que no\n",
        "# son válidas las evaluaciones realizadas por los miembros del mismo equipo.\n",
        "# Tu código a continuación...\n",
        "consulta = ContextoSql.sql(\"\"\"\n",
        "                        WITH completo AS (\n",
        "                          SELECT\n",
        "                          REPLACE(asistencia.Equipo_al_que_perteneces,\"Pertenezco a: \",\"\") as integrantes\n",
        "                          ,evaluacion.Equipo_que_vas_a_evaluar as evaluado\n",
        "                          ,asistencia.nombre_de_usuario as usuario\n",
        "                          ,evaluacion.Introduccion as Introduccion\n",
        "                          ,evaluacion.Equipo as Equipo\n",
        "                          ,evaluacion.Problema as Problema\n",
        "                          ,evaluacion.Ventajas as Ventajas\n",
        "                          ,evaluacion.Solucion as Solucion\n",
        "                          ,evaluacion.Producto as Producto\n",
        "                          ,evaluacion.Traccion as Traccion\n",
        "                          ,evaluacion.Mercado as Mercado\n",
        "                          ,evaluacion.Competencia as Competencia\n",
        "                          ,evaluacion.Modelo_de_negocio as Modelo\n",
        "                          ,evaluacion.Inversion as Inversion\n",
        "                          ,evaluacion.Contacto as Contacto\n",
        "                          ,evaluacion.Exposicion_1 as Exposicion_1\n",
        "                          ,evaluacion.Exposicion_2 as Exposicion_2 \n",
        "                          ,evaluacion.Exposicion_3 as Exposicion_3\n",
        "                          FROM evaluacion\n",
        "                          INNER JOIN asistencia\n",
        "                          ON asistencia.nombre_de_usuario = evaluacion.nombre_de_usuario )\n",
        "                          SELECT\n",
        "                          AVG(Introduccion) as Introduccion\n",
        "                          ,AVG(Equipo) as Equipo\n",
        "                          ,AVG(Problema) as Problema\n",
        "                          ,AVG(Ventajas) as Ventajas\n",
        "                          ,AVG(Solucion) as Solucion\n",
        "                          ,AVG(Producto) as Producto\n",
        "                          ,AVG(Traccion) as Traccion\n",
        "                          ,AVG(Mercado) as Competencia\n",
        "                          ,AVG(Modelo) as Modelo_de_negocio\n",
        "                          ,AVG(Inversion) as Inversion\n",
        "                          ,AVG(Contacto) as Contacto\n",
        "                          ,AVG(Exposicion_1) as Exposicion_1\n",
        "                          ,AVG(Exposicion_2) as Exposicion_2\n",
        "                          ,AVG(Exposicion_3) as Exposicion_3\n",
        "                          FROM completo\n",
        "                          WHERE integrantes<>evaluado\n",
        "                            \"\"\"\n",
        "                          )\n",
        "consulta.show()\n",
        "\n",
        "consulta1 = ContextoSql.sql(\"\"\"\n",
        "                        WITH completo AS (\n",
        "                          SELECT\n",
        "                          REPLACE(asistencia.Equipo_al_que_perteneces,\"Pertenezco a: \",\"\") as integrantes\n",
        "                          ,evaluacion.Equipo_que_vas_a_evaluar as evaluado\n",
        "                          ,asistencia.nombre_de_usuario as usuario\n",
        "                          ,evaluacion.Introduccion as Introduccion\n",
        "                          ,evaluacion.Equipo as Equipo\n",
        "                          ,evaluacion.Problema as Problema\n",
        "                          ,evaluacion.Ventajas as Ventajas\n",
        "                          ,evaluacion.Solucion as Solucion\n",
        "                          ,evaluacion.Producto as Producto\n",
        "                          ,evaluacion.Traccion as Traccion\n",
        "                          ,evaluacion.Mercado as Mercado\n",
        "                          ,evaluacion.Competencia as Competencia\n",
        "                          ,evaluacion.Modelo_de_negocio as Modelo\n",
        "                          ,evaluacion.Inversion as Inversion\n",
        "                          ,evaluacion.Contacto as Contacto\n",
        "                          ,evaluacion.Exposicion_1 as Exposicion_1\n",
        "                          ,evaluacion.Exposicion_2 as Exposicion_2 \n",
        "                          ,evaluacion.Exposicion_3 as Exposicion_3\n",
        "                          FROM evaluacion\n",
        "                          INNER JOIN asistencia\n",
        "                          ON asistencia.nombre_de_usuario = evaluacion.nombre_de_usuario )\n",
        "                          SELECT\n",
        "                          evaluado\n",
        "                          ,(AVG(Introduccion)+AVG(Equipo)+AVG(Problema)+AVG(Ventajas)+AVG(Solucion)+AVG(Producto)+AVG(Traccion)+AVG(Mercado)+AVG(Competencia)+AVG(Modelo)+AVG(Inversion)+AVG(Exposicion_1)+AVG(Exposicion_2)+AVG(Exposicion_3))/15 AS Nota_promedio\n",
        "                          FROM completo\n",
        "                          WHERE integrantes<>evaluado\n",
        "                          GROUP BY 1\n",
        "                            \"\"\"\n",
        "                          )\n",
        "consulta1.show()\n"
      ],
      "execution_count": null,
      "outputs": [
        {
          "output_type": "stream",
          "text": [
            "+-----------------+----------------+-----------------+-----------------+-----------------+-----------------+------------------+-----------------+-----------------+-----------------+-----------------+-----------------+-----------------+-----------------+\n",
            "|     Introduccion|          Equipo|         Problema|         Ventajas|         Solucion|         Producto|          Traccion|      Competencia|Modelo_de_negocio|        Inversion|         Contacto|     Exposicion_1|     Exposicion_2|     Exposicion_3|\n",
            "+-----------------+----------------+-----------------+-----------------+-----------------+-----------------+------------------+-----------------+-----------------+-----------------+-----------------+-----------------+-----------------+-----------------+\n",
            "|4.364410480349345|4.29825327510917|4.383624454148472|4.170742358078603|4.384934497816594|4.440174672489083|4.2508733624454145|4.334279475982533|4.414410480349345|4.229912663755458|4.514847161572052|4.441266375545852|4.434279475982533|4.475982532751091|\n",
            "+-----------------+----------------+-----------------+-----------------+-----------------+-----------------+------------------+-----------------+-----------------+-----------------+-----------------+-----------------+-----------------+-----------------+\n",
            "\n",
            "+--------------------+------------------+\n",
            "|            evaluado|     Nota_promedio|\n",
            "+--------------------+------------------+\n",
            "|Servicios a domic...|  4.11103408434431|\n",
            "|Lo tengo y te lo ...|  4.17314487632509|\n",
            "|Gestión de Reside...|  4.16797153024911|\n",
            "|       Te lo cambio.|3.9830687830687834|\n",
            "|Administración de...|3.9135757575757575|\n",
            "|Deserción de estu...| 4.433333333333334|\n",
            "|Gestión de Menús ...| 4.060899653979239|\n",
            "|Gestión de progra...| 4.110994152046784|\n",
            "|     Mi Sanandresito|3.9032657657657657|\n",
            "+--------------------+------------------+\n",
            "\n"
          ],
          "name": "stdout"
        }
      ]
    },
    {
      "cell_type": "code",
      "metadata": {
        "id": "P3MU9WwoTuu4",
        "outputId": "d0f9bb4c-72d3-4fe7-a156-93098a8ee032"
      },
      "source": [
        "# 10. Consulte el mejor equipo evaluado por cada ítem (según nota promedio. En caso de empate mostrar todos los empatados)\n",
        "# Tu código a continuación...\n",
        "consulta = ContextoSql.sql(\"\"\"\n",
        "WITH completo AS (\n",
        "    SELECT\n",
        "        REPLACE(asistencia.Equipo_al_que_perteneces,\"Pertenezco a: \",\"\") as integrantes\n",
        "         ,evaluacion.Equipo_que_vas_a_evaluar as evaluado\n",
        "         ,asistencia.nombre_de_usuario as usuario\n",
        "         ,evaluacion.Introduccion as Introduccion\n",
        "         ,evaluacion.Equipo as Equipo\n",
        "         ,evaluacion.Problema as Problema\n",
        "         ,evaluacion.Ventajas as Ventajas\n",
        "         ,evaluacion.Solucion as Solucion\n",
        "         ,evaluacion.Producto as Producto\n",
        "         ,evaluacion.Traccion as Traccion\n",
        "         ,evaluacion.Mercado as Mercado\n",
        "         ,evaluacion.Competencia as Competencia\n",
        "         ,evaluacion.Modelo_de_negocio as Modelo\n",
        "         ,evaluacion.Inversion as Inversion\n",
        "         ,evaluacion.Contacto as Contacto\n",
        "         ,evaluacion.Exposicion_1 as Exposicion_1\n",
        "         ,evaluacion.Exposicion_2 as Exposicion_2\n",
        "         ,evaluacion.Exposicion_3 as Exposicion_3\n",
        "    FROM evaluacion\n",
        "             INNER JOIN asistencia\n",
        "                        ON asistencia.nombre_de_usuario = evaluacion.nombre_de_usuario\n",
        "), tabla_avg as (\n",
        "    SELECT\n",
        "        evaluado\n",
        "         ,AVG(Introduccion) as Introduccion\n",
        "         ,AVG(Equipo) as Equipo\n",
        "         ,AVG(Problema) as Problema\n",
        "         ,AVG(Ventajas) as Ventajas\n",
        "         ,AVG(Solucion) as Solucion\n",
        "         ,AVG(Producto) as Producto\n",
        "         ,AVG(Traccion) as Traccion\n",
        "         ,AVG(Mercado) as Mercado\n",
        "         ,AVG(Competencia) as Competencia\n",
        "         ,AVG(Modelo) as Modelo\n",
        "         ,AVG(Inversion) as Inversion\n",
        "         ,AVG(Contacto) as Contacto\n",
        "         ,AVG(Exposicion_1) as Exposicion_1\n",
        "         ,AVG(Exposicion_2) as Exposicion_2\n",
        "         ,AVG(Exposicion_3) as Exposicion_3\n",
        "    FROM completo\n",
        "    WHERE integrantes<>evaluado\n",
        "    GROUP BY evaluado\n",
        ")\n",
        "SELECT\n",
        "    evaluado AS Equipo \n",
        "    ,Introduccion AS Nota\n",
        "    ,'Introduccion' as Item\n",
        "    FROM tabla_avg\n",
        "WHERE Introduccion = (SELECT MAX(Introduccion) FROM tabla_avg)\n",
        "UNION ALL\n",
        "\n",
        "SELECT\n",
        "    evaluado AS Equipo\n",
        "    ,Equipo AS Nota\n",
        "    ,'Equipo' AS Item\n",
        "    FROM tabla_avg\n",
        "WHERE Equipo = (SELECT MAX(Equipo) FROM tabla_avg)\n",
        "UNION ALL\n",
        "\n",
        "SELECT\n",
        "    evaluado AS Equipo\n",
        "    ,Problema AS Nota\n",
        "    ,'Problema' AS Item\n",
        "    FROM tabla_avg\n",
        "WHERE Problema = (SELECT MAX(Problema) FROM tabla_avg)\n",
        "UNION ALL\n",
        "\n",
        "SELECT\n",
        "    evaluado AS Equipo\n",
        "    ,Ventajas AS Nota\n",
        "    ,'Ventajas' AS Item\n",
        "    FROM tabla_avg\n",
        "WHERE Ventajas = (SELECT MAX(Ventajas) FROM tabla_avg)\n",
        "UNION ALL\n",
        "\n",
        "SELECT\n",
        "    evaluado AS Equipo\n",
        "    ,Solucion AS Nota\n",
        "    ,'Solucion' AS Item\n",
        "    FROM tabla_avg\n",
        "WHERE Solucion = (SELECT MAX(Solucion) FROM tabla_avg)\n",
        "UNION ALL\n",
        "\n",
        "SELECT\n",
        "    evaluado AS Equipo\n",
        "    ,Producto AS Nota\n",
        "    ,'Producto' AS Item\n",
        "    FROM tabla_avg\n",
        "WHERE Producto = (SELECT MAX(Producto) FROM tabla_avg)\n",
        "UNION ALL\n",
        "\n",
        "SELECT\n",
        "    evaluado AS Equipo\n",
        "    ,Traccion AS Nota\n",
        "    ,'Traccion' AS Item\n",
        "    FROM tabla_avg\n",
        "WHERE Traccion = (SELECT MAX(Traccion) FROM tabla_avg)\n",
        "UNION ALL\n",
        "     \n",
        "SELECT\n",
        "    evaluado AS Equipo\n",
        "    ,Mercado AS Nota\n",
        "    ,'Mercado' AS Item\n",
        "    FROM tabla_avg\n",
        "WHERE Mercado = (SELECT MAX(Mercado) FROM tabla_avg)\n",
        "UNION ALL \n",
        "\n",
        "SELECT\n",
        "    evaluado AS Equipo\n",
        "    ,Competencia AS Nota\n",
        "    ,'Competencia' AS Item\n",
        "    FROM tabla_avg\n",
        "WHERE Competencia = (SELECT MAX(Competencia) FROM tabla_avg)\n",
        "UNION ALL \n",
        "\n",
        "SELECT\n",
        "    evaluado AS Equipo\n",
        "    ,Modelo AS Nota\n",
        "    ,'Modelo' AS Item\n",
        "    FROM tabla_avg\n",
        "WHERE Modelo = (SELECT MAX(Modelo) FROM tabla_avg)\n",
        "UNION ALL\n",
        "\n",
        "SELECT\n",
        "    evaluado AS Equipo\n",
        "    ,Inversion AS Nota\n",
        "    ,'Inversion' AS Item\n",
        "    FROM tabla_avg\n",
        "WHERE Inversion = (SELECT MAX(Inversion) FROM tabla_avg)\n",
        "UNION ALL\n",
        "\n",
        "SELECT\n",
        "    evaluado AS Equipo\n",
        "    ,Contacto AS Nota\n",
        "    ,'Contacto' AS Item\n",
        "    FROM tabla_avg\n",
        "WHERE Contacto = (SELECT MAX(Contacto) FROM tabla_avg)\n",
        "UNION ALL\n",
        "\n",
        "SELECT\n",
        "    evaluado AS Equipo\n",
        "    ,Exposicion_1 AS Nota\n",
        "    ,'Exposicion_1' AS Item\n",
        "    FROM tabla_avg\n",
        "WHERE Exposicion_1 = (SELECT MAX(Exposicion_1) FROM tabla_avg)\n",
        "UNION ALL\n",
        "\n",
        "SELECT\n",
        "    evaluado AS Equipo\n",
        "    ,Exposicion_2 AS Nota\n",
        "    ,'Exposicion_2' AS Item\n",
        "    FROM tabla_avg\n",
        "WHERE Exposicion_2 = (SELECT MAX(Exposicion_2) FROM tabla_avg)\n",
        "UNION ALL\n",
        "\n",
        "SELECT\n",
        "    evaluado AS Equipo\n",
        "    ,Exposicion_3 AS Nota\n",
        "    ,'Exposicion_3' AS Item\n",
        "    FROM tabla_avg\n",
        "WHERE Exposicion_3 = (SELECT MAX(Exposicion_3) FROM tabla_avg)\n",
        "  \"\"\")\n",
        "\n",
        "consulta.show()\n",
        "\n"
      ],
      "execution_count": null,
      "outputs": [
        {
          "output_type": "stream",
          "text": [
            "+--------------------+------------------+------------+\n",
            "|              Equipo|              Nota|        Item|\n",
            "+--------------------+------------------+------------+\n",
            "|Gestión de Reside...| 4.556939501779359|Introduccion|\n",
            "|Deserción de estu...|               5.0|      Equipo|\n",
            "|Deserción de estu...|               5.0|    Problema|\n",
            "|Deserción de estu...|               5.0|    Ventajas|\n",
            "|Servicios a domic...|  4.50259965337955|    Solucion|\n",
            "|Deserción de estu...|               5.0|    Producto|\n",
            "|Deserción de estu...|               5.0|    Traccion|\n",
            "|Gestión de Reside...| 4.683274021352313|     Mercado|\n",
            "|Deserción de estu...|               5.0| Competencia|\n",
            "|Gestión de Menús ...|4.6366782006920415|      Modelo|\n",
            "|Gestión de progra...| 4.535087719298246|   Inversion|\n",
            "|Deserción de estu...|               5.0|    Contacto|\n",
            "|       Te lo cambio.| 4.574955908289241|Exposicion_1|\n",
            "|Lo tengo y te lo ...| 4.598939929328622|Exposicion_2|\n",
            "|Deserción de estu...|               5.0|Exposicion_3|\n",
            "+--------------------+------------------+------------+\n",
            "\n"
          ],
          "name": "stdout"
        }
      ]
    },
    {
      "cell_type": "code",
      "metadata": {
        "id": "vBF_BLBDTuu5",
        "outputId": "293f8fd5-d8c5-4682-aa6f-bf0992644b15"
      },
      "source": [
        "# 10. Consulte el mejor equipo según el promedio total.\n",
        "# Tu código a continuación...\n",
        "consulta1 = ContextoSql.sql(\"\"\"\n",
        "WITH completo AS (\n",
        "    SELECT\n",
        "        REPLACE(asistencia.Equipo_al_que_perteneces,\"Pertenezco a: \",\"\") as integrantes\n",
        "         ,evaluacion.Equipo_que_vas_a_evaluar as evaluado\n",
        "         ,asistencia.nombre_de_usuario as usuario\n",
        "         ,evaluacion.Introduccion as Introduccion\n",
        "         ,evaluacion.Equipo as Equipo\n",
        "         ,evaluacion.Problema as Problema\n",
        "         ,evaluacion.Ventajas as Ventajas\n",
        "         ,evaluacion.Solucion as Solucion\n",
        "         ,evaluacion.Producto as Producto\n",
        "         ,evaluacion.Traccion as Traccion\n",
        "         ,evaluacion.Mercado as Mercado\n",
        "         ,evaluacion.Competencia as Competencia\n",
        "         ,evaluacion.Modelo_de_negocio as Modelo\n",
        "         ,evaluacion.Inversion as Inversion\n",
        "         ,evaluacion.Contacto as Contacto\n",
        "         ,evaluacion.Exposicion_1 as Exposicion_1\n",
        "         ,evaluacion.Exposicion_2 as Exposicion_2\n",
        "         ,evaluacion.Exposicion_3 as Exposicion_3\n",
        "    FROM evaluacion\n",
        "             INNER JOIN asistencia\n",
        "                        ON asistencia.nombre_de_usuario = evaluacion.nombre_de_usuario\n",
        "),\n",
        "     promedio as (\n",
        "         SELECT\n",
        "             evaluado\n",
        "              ,(AVG(Introduccion)+AVG(Equipo)+AVG(Problema)+AVG(Ventajas)+AVG(Solucion)+AVG(Producto)+AVG(Traccion)+AVG(Mercado)+AVG(Competencia)+AVG(Modelo)+AVG(Inversion)+AVG(Exposicion_1)+AVG(Exposicion_2)+AVG(Exposicion_3))/15 AS Nota_promedio\n",
        "         FROM completo\n",
        "         WHERE integrantes<>evaluado\n",
        "         GROUP BY 1\n",
        "         )\n",
        "\n",
        "SELECT\n",
        "    evaluado AS Mejor_Equipo\n",
        "    ,Nota_promedio AS Mejor_Nota\n",
        "       FROM promedio\n",
        "WHERE Nota_promedio = (SELECT MAX(Nota_promedio) FROM promedio)\n",
        "    \"\"\"\n",
        "                          )\n",
        "consulta1.show()"
      ],
      "execution_count": null,
      "outputs": [
        {
          "output_type": "stream",
          "text": [
            "+--------------------+-----------------+\n",
            "|        Mejor_Equipo|       Mejor_Nota|\n",
            "+--------------------+-----------------+\n",
            "|Deserción de estu...|4.433333333333334|\n",
            "+--------------------+-----------------+\n",
            "\n"
          ],
          "name": "stdout"
        }
      ]
    },
    {
      "cell_type": "code",
      "metadata": {
        "id": "5FxshQ8sTx-R",
        "outputId": "20028cad-3cf1-4657-fc29-89ee3b73dddd"
      },
      "source": [
        "# 11. Consulte el peor equipo evaluado por cada ítem (según nota promedio. En caso de empate mostrar todos los empatados) \n",
        "# y el peor equipo según el promedio total.\n",
        "# Tu código a continuación...\n",
        "\n",
        "consulta = ContextoSql.sql(\"\"\"\n",
        "WITH completo AS (\n",
        "    SELECT\n",
        "        REPLACE(asistencia.Equipo_al_que_perteneces,\"Pertenezco a: \",\"\") as integrantes\n",
        "         ,evaluacion.Equipo_que_vas_a_evaluar as evaluado\n",
        "         ,asistencia.nombre_de_usuario as usuario\n",
        "         ,evaluacion.Introduccion as Introduccion\n",
        "         ,evaluacion.Equipo as Equipo\n",
        "         ,evaluacion.Problema as Problema\n",
        "         ,evaluacion.Ventajas as Ventajas\n",
        "         ,evaluacion.Solucion as Solucion\n",
        "         ,evaluacion.Producto as Producto\n",
        "         ,evaluacion.Traccion as Traccion\n",
        "         ,evaluacion.Mercado as Mercado\n",
        "         ,evaluacion.Competencia as Competencia\n",
        "         ,evaluacion.Modelo_de_negocio as Modelo\n",
        "         ,evaluacion.Inversion as Inversion\n",
        "         ,evaluacion.Contacto as Contacto\n",
        "         ,evaluacion.Exposicion_1 as Exposicion_1\n",
        "         ,evaluacion.Exposicion_2 as Exposicion_2\n",
        "         ,evaluacion.Exposicion_3 as Exposicion_3\n",
        "    FROM evaluacion\n",
        "             INNER JOIN asistencia\n",
        "                        ON asistencia.nombre_de_usuario = evaluacion.nombre_de_usuario\n",
        "), tabla_avg as (\n",
        "    SELECT\n",
        "        evaluado\n",
        "         ,AVG(Introduccion) as Introduccion\n",
        "         ,AVG(Equipo) as Equipo\n",
        "         ,AVG(Problema) as Problema\n",
        "         ,AVG(Ventajas) as Ventajas\n",
        "         ,AVG(Solucion) as Solucion\n",
        "         ,AVG(Producto) as Producto\n",
        "         ,AVG(Traccion) as Traccion\n",
        "         ,AVG(Mercado) as Mercado\n",
        "         ,AVG(Competencia) as Competencia\n",
        "         ,AVG(Modelo) as Modelo\n",
        "         ,AVG(Inversion) as Inversion\n",
        "         ,AVG(Contacto) as Contacto\n",
        "         ,AVG(Exposicion_1) as Exposicion_1\n",
        "         ,AVG(Exposicion_2) as Exposicion_2\n",
        "         ,AVG(Exposicion_3) as Exposicion_3\n",
        "    FROM completo\n",
        "    WHERE integrantes<>evaluado\n",
        "    GROUP BY evaluado\n",
        ")\n",
        "SELECT\n",
        "    evaluado AS Equipo \n",
        "    ,Introduccion AS Nota\n",
        "    ,'Introduccion' as Item\n",
        "    FROM tabla_avg\n",
        "WHERE Introduccion = (SELECT MIN(Introduccion) FROM tabla_avg)\n",
        "UNION ALL\n",
        "\n",
        "SELECT\n",
        "    evaluado AS Equipo\n",
        "    ,Equipo AS Nota\n",
        "    ,'Equipo' AS Item\n",
        "    FROM tabla_avg\n",
        "WHERE Equipo = (SELECT MIN(Equipo) FROM tabla_avg)\n",
        "UNION ALL\n",
        "\n",
        "SELECT\n",
        "    evaluado AS Equipo\n",
        "    ,Problema AS Nota\n",
        "    ,'Problema' AS Item\n",
        "    FROM tabla_avg\n",
        "WHERE Problema = (SELECT MIN(Problema) FROM tabla_avg)\n",
        "UNION ALL\n",
        "\n",
        "SELECT\n",
        "    evaluado AS Equipo\n",
        "    ,Ventajas AS Nota\n",
        "    ,'Ventajas' AS Item\n",
        "    FROM tabla_avg\n",
        "WHERE Ventajas = (SELECT MIN(Ventajas) FROM tabla_avg)\n",
        "UNION ALL\n",
        "\n",
        "SELECT\n",
        "    evaluado AS Equipo\n",
        "    ,Solucion AS Nota\n",
        "    ,'Solucion' AS Item\n",
        "    FROM tabla_avg\n",
        "WHERE Solucion = (SELECT MIN(Solucion) FROM tabla_avg)\n",
        "UNION ALL\n",
        "\n",
        "SELECT\n",
        "    evaluado AS Equipo\n",
        "    ,Producto AS Nota\n",
        "    ,'Producto' AS Item\n",
        "    FROM tabla_avg\n",
        "WHERE Producto = (SELECT MIN(Producto) FROM tabla_avg)\n",
        "UNION ALL\n",
        "\n",
        "SELECT\n",
        "    evaluado AS Equipo\n",
        "    ,Traccion AS Nota\n",
        "    ,'Traccion' AS Item\n",
        "    FROM tabla_avg\n",
        "WHERE Traccion = (SELECT MIN(Traccion) FROM tabla_avg)\n",
        "UNION ALL\n",
        "     \n",
        "SELECT\n",
        "    evaluado AS Equipo\n",
        "    ,Mercado AS Nota\n",
        "    ,'Mercado' AS Item\n",
        "    FROM tabla_avg\n",
        "WHERE Mercado = (SELECT MIN(Mercado) FROM tabla_avg)\n",
        "UNION ALL \n",
        "\n",
        "SELECT\n",
        "    evaluado AS Equipo\n",
        "    ,Competencia AS Nota\n",
        "    ,'Competencia' AS Item\n",
        "    FROM tabla_avg\n",
        "WHERE Competencia = (SELECT MIN(Competencia) FROM tabla_avg)\n",
        "UNION ALL \n",
        "\n",
        "SELECT\n",
        "    evaluado AS Equipo\n",
        "    ,Modelo AS Nota\n",
        "    ,'Modelo' AS Item\n",
        "    FROM tabla_avg\n",
        "WHERE Modelo = (SELECT MIN(Modelo) FROM tabla_avg)\n",
        "UNION ALL\n",
        "\n",
        "SELECT\n",
        "    evaluado AS Equipo\n",
        "    ,Inversion AS Nota\n",
        "    ,'Inversion' AS Item\n",
        "    FROM tabla_avg\n",
        "WHERE Inversion = (SELECT MIN(Inversion) FROM tabla_avg)\n",
        "UNION ALL\n",
        "\n",
        "SELECT\n",
        "    evaluado AS Equipo\n",
        "    ,Contacto AS Nota\n",
        "    ,'Contacto' AS Item\n",
        "    FROM tabla_avg\n",
        "WHERE Contacto = (SELECT MIN(Contacto) FROM tabla_avg)\n",
        "UNION ALL\n",
        "\n",
        "SELECT\n",
        "    evaluado AS Equipo\n",
        "    ,Exposicion_1 AS Nota\n",
        "    ,'Exposicion_1' AS Item\n",
        "    FROM tabla_avg\n",
        "WHERE Exposicion_1 = (SELECT MIN(Exposicion_1) FROM tabla_avg)\n",
        "UNION ALL\n",
        "\n",
        "SELECT\n",
        "    evaluado AS Equipo\n",
        "    ,Exposicion_2 AS Nota\n",
        "    ,'Exposicion_2' AS Item\n",
        "    FROM tabla_avg\n",
        "WHERE Exposicion_2 = (SELECT MIN(Exposicion_2) FROM tabla_avg)\n",
        "UNION ALL\n",
        "\n",
        "SELECT\n",
        "    evaluado AS Equipo\n",
        "    ,Exposicion_3 AS Nota\n",
        "    ,'Exposicion_3' AS Item\n",
        "    FROM tabla_avg\n",
        "WHERE Exposicion_3 = (SELECT MIN(Exposicion_3) FROM tabla_avg)\n",
        "  \"\"\")\n",
        "\n",
        "consulta.show()"
      ],
      "execution_count": null,
      "outputs": [
        {
          "output_type": "stream",
          "text": [
            "+--------------------+------------------+------------+\n",
            "|              Equipo|              Nota|        Item|\n",
            "+--------------------+------------------+------------+\n",
            "|Administración de...| 4.121818181818182|Introduccion|\n",
            "|     Mi Sanandresito|3.9087837837837838|      Equipo|\n",
            "|Administración de...|3.9709090909090907|    Problema|\n",
            "|Gestión de progra...|3.9157894736842107|    Ventajas|\n",
            "|Administración de...|4.1872727272727275|    Solucion|\n",
            "|Gestión de Menús ...| 4.022491349480969|    Producto|\n",
            "|Administración de...| 4.045454545454546|    Traccion|\n",
            "|       Te lo cambio.| 4.088183421516755|     Mercado|\n",
            "|     Mi Sanandresito| 3.518581081081081| Competencia|\n",
            "|Servicios a domic...|4.2668977469670715|      Modelo|\n",
            "|       Te lo cambio.|3.5943562610229276|   Inversion|\n",
            "|Administración de...| 4.134545454545455|    Contacto|\n",
            "|     Mi Sanandresito| 4.275337837837838|Exposicion_1|\n",
            "|     Mi Sanandresito| 4.175675675675675|Exposicion_2|\n",
            "|     Mi Sanandresito|             4.125|Exposicion_3|\n",
            "+--------------------+------------------+------------+\n",
            "\n"
          ],
          "name": "stdout"
        }
      ]
    },
    {
      "cell_type": "code",
      "metadata": {
        "id": "udWYxBKMTuu6",
        "outputId": "0de67b3d-41f2-4162-ef9a-e3cace315051"
      },
      "source": [
        "# 11. Consulte el peor equipo según el promedio total.\n",
        "# Tu código a continuación...\n",
        "consulta1 = ContextoSql.sql(\"\"\"\n",
        "WITH completo AS (\n",
        "    SELECT\n",
        "        REPLACE(asistencia.Equipo_al_que_perteneces,\"Pertenezco a: \",\"\") as integrantes\n",
        "         ,evaluacion.Equipo_que_vas_a_evaluar as evaluado\n",
        "         ,asistencia.nombre_de_usuario as usuario\n",
        "         ,evaluacion.Introduccion as Introduccion\n",
        "         ,evaluacion.Equipo as Equipo\n",
        "         ,evaluacion.Problema as Problema\n",
        "         ,evaluacion.Ventajas as Ventajas\n",
        "         ,evaluacion.Solucion as Solucion\n",
        "         ,evaluacion.Producto as Producto\n",
        "         ,evaluacion.Traccion as Traccion\n",
        "         ,evaluacion.Mercado as Mercado\n",
        "         ,evaluacion.Competencia as Competencia\n",
        "         ,evaluacion.Modelo_de_negocio as Modelo\n",
        "         ,evaluacion.Inversion as Inversion\n",
        "         ,evaluacion.Contacto as Contacto\n",
        "         ,evaluacion.Exposicion_1 as Exposicion_1\n",
        "         ,evaluacion.Exposicion_2 as Exposicion_2\n",
        "         ,evaluacion.Exposicion_3 as Exposicion_3\n",
        "    FROM evaluacion\n",
        "             INNER JOIN asistencia\n",
        "                        ON asistencia.nombre_de_usuario = evaluacion.nombre_de_usuario\n",
        "),\n",
        "     promedio as (\n",
        "         SELECT\n",
        "             evaluado\n",
        "              ,(AVG(Introduccion)+AVG(Equipo)+AVG(Problema)+AVG(Ventajas)+AVG(Solucion)+AVG(Producto)+AVG(Traccion)+AVG(Mercado)+AVG(Competencia)+AVG(Modelo)+AVG(Inversion)+AVG(Exposicion_1)+AVG(Exposicion_2)+AVG(Exposicion_3))/15 AS Nota_promedio\n",
        "         FROM completo\n",
        "         WHERE integrantes<>evaluado\n",
        "         GROUP BY 1\n",
        "         )\n",
        "\n",
        "SELECT\n",
        "    evaluado AS Peor_Equipo\n",
        "    ,Nota_promedio AS Peor_Nota\n",
        "       FROM promedio\n",
        "WHERE Nota_promedio = (SELECT MIN(Nota_promedio) FROM promedio)\n",
        "    \"\"\"\n",
        "                          )\n",
        "consulta1.show()"
      ],
      "execution_count": null,
      "outputs": [
        {
          "output_type": "stream",
          "text": [
            "+---------------+------------------+\n",
            "|    Peor_Equipo|         Peor_Nota|\n",
            "+---------------+------------------+\n",
            "|Mi Sanandresito|3.9032657657657657|\n",
            "+---------------+------------------+\n",
            "\n"
          ],
          "name": "stdout"
        }
      ]
    },
    {
      "cell_type": "code",
      "metadata": {
        "id": "qfe3ohQITx-S",
        "outputId": "8abb8302-dc92-4ed8-e342-2002d518dd6f"
      },
      "source": [
        "# 12. Consulte la lista de estudiantes con la correspondiente nota obtenida en la presentación \n",
        "# (nota promedio total de la evaluación obtenida por el equipo)\n",
        "# Tu código a continuación...\n",
        "consult = ContextoSql.sql(\"\"\"\n",
        " WITH completo AS (\n",
        "                          SELECT\n",
        "                          REPLACE(asistencia.Equipo_al_que_perteneces,\"Pertenezco a: \",\"\") as integrantes\n",
        "                          ,evaluacion.Equipo_que_vas_a_evaluar as evaluado\n",
        "                          ,asistencia.nombre_de_usuario as usuario\n",
        "                          ,evaluacion.Introduccion as Introduccion\n",
        "                          ,evaluacion.Equipo as Equipo\n",
        "                          ,evaluacion.Problema as Problema\n",
        "                          ,evaluacion.Ventajas as Ventajas\n",
        "                          ,evaluacion.Solucion as Solucion\n",
        "                          ,evaluacion.Producto as Producto\n",
        "                          ,evaluacion.Traccion as Traccion\n",
        "                          ,evaluacion.Mercado as Mercado\n",
        "                          ,evaluacion.Competencia as Competencia\n",
        "                          ,evaluacion.Modelo_de_negocio as Modelo\n",
        "                          ,evaluacion.Inversion as Inversion\n",
        "                          ,evaluacion.Contacto as Contacto\n",
        "                          ,evaluacion.Exposicion_1 as Exposicion_1\n",
        "                          ,evaluacion.Exposicion_2 as Exposicion_2 \n",
        "                          ,evaluacion.Exposicion_3 as Exposicion_3\n",
        "                          FROM evaluacion\n",
        "                          INNER JOIN asistencia\n",
        "                          ON asistencia.nombre_de_usuario = evaluacion.nombre_de_usuario )\n",
        "                          SELECT\n",
        "                          usuario as estudiante\n",
        "                          ,(AVG(Introduccion)+AVG(Equipo)+AVG(Problema)+AVG(Ventajas)+AVG(Solucion)+AVG(Producto)+AVG(Traccion)+AVG(Mercado)+AVG(Competencia)+AVG(Modelo)+AVG(Inversion)+AVG(Exposicion_1)+AVG(Exposicion_2)+AVG(Exposicion_3))/15 AS Nota_promedio\n",
        "                          FROM completo\n",
        "                          WHERE integrantes<>evaluado\n",
        "                          GROUP BY 1\n",
        "                          \"\"\")\n",
        "consult.show()\n"
      ],
      "execution_count": null,
      "outputs": [
        {
          "output_type": "stream",
          "text": [
            "+--------------------+------------------+\n",
            "|          estudiante|     Nota_promedio|\n",
            "+--------------------+------------------+\n",
            "|samolinap@unal.ed...| 4.504761904761905|\n",
            "| jruedat@unal.edu.co|3.9555555555555553|\n",
            "|nvalenciat@unal.e...|3.7333333333333334|\n",
            "|serendona@unal.ed...|4.3428571428571425|\n",
            "|jgutierrezlo@unal...|3.9238095238095245|\n",
            "|dgerenal@unal.edu.co| 3.980952380952381|\n",
            "|cjfunezg@unal.edu.co|4.0476190476190474|\n",
            "|emflorezb@unal.ed...|  4.39047619047619|\n",
            "|dchavarriar@unal....|  4.59047619047619|\n",
            "|fguerrerot@unal.e...|4.0095238095238095|\n",
            "|jdroldano@unal.ed...| 3.966666666666667|\n",
            "|juriveras@unal.ed...|3.1523809523809523|\n",
            "|jovillarrealm@una...| 4.495238095238094|\n",
            "| lrdiaza@unal.edu.co|4.0095238095238095|\n",
            "|dguardia@unal.edu.co| 3.780952380952381|\n",
            "|fmiranda@unal.edu.co| 4.428571428571429|\n",
            "|dcadavid@unal.edu.co|4.4190476190476184|\n",
            "| bocampo@unal.edu.co|3.9047619047619047|\n",
            "|rmbuilesm@unal.ed...|4.5888888888888895|\n",
            "|jmunozhe@unal.edu.co| 3.952380952380952|\n",
            "+--------------------+------------------+\n",
            "only showing top 20 rows\n",
            "\n"
          ],
          "name": "stdout"
        }
      ]
    }
  ]
}